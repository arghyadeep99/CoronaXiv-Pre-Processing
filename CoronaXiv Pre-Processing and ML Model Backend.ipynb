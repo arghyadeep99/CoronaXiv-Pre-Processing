{
  "nbformat": 4,
  "nbformat_minor": 0,
  "metadata": {
    "kernelspec": {
      "display_name": "Python 3",
      "language": "python",
      "name": "python3"
    },
    "language_info": {
      "codemirror_mode": {
        "name": "ipython",
        "version": 3
      },
      "file_extension": ".py",
      "mimetype": "text/x-python",
      "name": "python",
      "nbconvert_exporter": "python",
      "pygments_lexer": "ipython3",
      "version": "3.8.2"
    },
    "colab": {
      "name": "CoronaXiv Pre-Processing and ML Model Backend.ipynb",
      "provenance": [],
      "collapsed_sections": [
        "XDdzZPy4ubbS",
        "zThXZKbrubbd",
        "N0oX-Briubbo",
        "HakhNXmhubbv",
        "CzeCMqmFubcz",
        "Xe2V5kWoubdA",
        "SZEYf337ubdL",
        "bTFBJpsTubdd",
        "bl4oGSipubdy",
        "GRIXHj8oubd2",
        "lWucjOfNubeV",
        "dcGyGRvrubew",
        "bDvAS9k9ubfH",
        "QtsOYzVnubfW",
        "aP57wdhcubf0"
      ],
      "include_colab_link": true
    }
  },
  "cells": [
    {
      "cell_type": "markdown",
      "metadata": {
        "id": "view-in-github",
        "colab_type": "text"
      },
      "source": [
        "<a href=\"https://colab.research.google.com/github/arghyadeep99/CoronaXiv-Pre-Processing/blob/master/CoronaXiv%20Pre-Processing%20and%20ML%20Model%20Backend.ipynb\" target=\"_parent\"><img src=\"https://colab.research.google.com/assets/colab-badge.svg\" alt=\"Open In Colab\"/></a>"
      ]
    },
    {
      "cell_type": "markdown",
      "metadata": {
        "id": "XDdzZPy4ubbS",
        "colab_type": "text"
      },
      "source": [
        "## Installing Required Libraries"
      ]
    },
    {
      "cell_type": "code",
      "metadata": {
        "id": "rHPFzHd-ubbU",
        "colab_type": "code",
        "colab": {}
      },
      "source": [
        "!pip3 install numpy pandas tqdm semanticscholar langdetect crossref altmetric sklearn torch sentence_transformers nltk tsnecuda"
      ],
      "execution_count": null,
      "outputs": []
    },
    {
      "cell_type": "markdown",
      "metadata": {
        "id": "zThXZKbrubbd",
        "colab_type": "text"
      },
      "source": [
        "## Necessary Imports"
      ]
    },
    {
      "cell_type": "code",
      "metadata": {
        "collapsed": true,
        "id": "n151fBOhubbf",
        "colab_type": "code",
        "colab": {
          "referenced_widgets": [
            "72f36dea70e8486ca5bf5a084c0b5750"
          ]
        },
        "outputId": "99efc565-fc96-45de-9960-5c9a9924d8de"
      },
      "source": [
        "import warnings\n",
        "warnings.filterwarnings(action='ignore', category=DeprecationWarning)\n",
        "\n",
        "import os\n",
        "import csv\n",
        "import glob\n",
        "import json\n",
        "import re\n",
        "import pickle\n",
        "from multiprocessing import Pool\n",
        "from IPython.display import display, Latex, HTML, FileLink\n",
        "import joblib\n",
        "import requests\n",
        "import urllib\n",
        "\n",
        "from bs4 import BeautifulSoup\n",
        "\n",
        "import numpy as np\n",
        "import pandas as pd\n",
        "from tqdm import tqdm_notebook\n",
        "tqdm_notebook().pandas()\n",
        "\n",
        "import semanticscholar as sch\n",
        "from langdetect import detect\n",
        "from crossref.restful import Works, Journals\n",
        "from altmetric import Altmetric\n",
        "\n",
        "from sklearn.metrics.pairwise import cosine_similarity\n",
        "import torch\n",
        "from sentence_transformers import SentenceTransformer, models\n",
        "from transformers import AutoTokenizer, AutoModelForQuestionAnswering, AutoModelWithLMHead\n",
        "\n",
        "from sklearn.feature_extraction.text import TfidfVectorizer, CountVectorizer, TfidfTransformer\n",
        "from sklearn.decomposition import NMF, LatentDirichletAllocation \n",
        "from sklearn.cluster import MiniBatchKMeans, KMeans\n",
        "from sklearn.metrics import silhouette_samples, silhouette_score, calinski_harabasz_score\n",
        "from sklearn.metrics.pairwise import cosine_similarity\n",
        "from sklearn.decomposition import PCA\n",
        "from nltk import word_tokenize          \n",
        "from nltk.stem import WordNetLemmatizer \n",
        "\n",
        "%matplotlib inline"
      ],
      "execution_count": null,
      "outputs": [
        {
          "output_type": "display_data",
          "data": {
            "application/vnd.jupyter.widget-view+json": {
              "model_id": "72f36dea70e8486ca5bf5a084c0b5750",
              "version_major": 2,
              "version_minor": 0
            },
            "text/plain": [
              "HBox(children=(FloatProgress(value=1.0, bar_style='info', max=1.0), HTML(value='')))"
            ]
          },
          "metadata": {
            "tags": []
          }
        },
        {
          "output_type": "stream",
          "text": [
            "/home/arghyadeep99/.local/lib/python3.8/site-packages/tqdm/std.py:668: FutureWarning: The Panel class is removed from pandas. Accessing it from the top-level namespace will also be removed in the next version\n",
            "  from pandas import Panel\n"
          ],
          "name": "stderr"
        },
        {
          "output_type": "stream",
          "text": [
            "\n"
          ],
          "name": "stdout"
        }
      ]
    },
    {
      "cell_type": "markdown",
      "metadata": {
        "id": "N0oX-Briubbo",
        "colab_type": "text"
      },
      "source": [
        "## Import from Google Drive"
      ]
    },
    {
      "cell_type": "code",
      "metadata": {
        "id": "d40Wwiwcubbp",
        "colab_type": "code",
        "colab": {}
      },
      "source": [
        "from google.colab import drive\n",
        "drive.mount('/gdrive')\n",
        "%cd /gdrive"
      ],
      "execution_count": null,
      "outputs": []
    },
    {
      "cell_type": "markdown",
      "metadata": {
        "id": "HakhNXmhubbv",
        "colab_type": "text"
      },
      "source": [
        "## Define Paths to directories"
      ]
    },
    {
      "cell_type": "code",
      "metadata": {
        "collapsed": true,
        "id": "cnJz_5rGubbw",
        "colab_type": "code",
        "colab": {},
        "outputId": "dfd9db51-0782-470e-bf6f-bb4ed2121d5b"
      },
      "source": [
        "PROJECT_PATH = \"\" #ADD YOUR PROJECT PATH\n",
        "DATASET_PATH = PROJECT_PATH + \"\" #ADD PATH TO DATASET\n",
        "EXPORT_PATH = PROJECT_PATH + \"\" #ADD PATH TO WHERE THE EMBEDDINGS, CSVS AND NPY FILE WILL BE EXPORTED\n",
        "\n",
        "if not os.path.exists(EXPORT_PATH):\n",
        "    os.makedirs(EXPORT_PATH)\n",
        "!ls $PROJECT_PATH"
      ],
      "execution_count": null,
      "outputs": [
        {
          "output_type": "error",
          "ename": "FileNotFoundError",
          "evalue": "[Errno 2] No such file or directory: ''",
          "traceback": [
            "\u001b[0;31m---------------------------------------------------------------------------\u001b[0m",
            "\u001b[0;31mFileNotFoundError\u001b[0m                         Traceback (most recent call last)",
            "\u001b[0;32m<ipython-input-9-48ad85c31a2a>\u001b[0m in \u001b[0;36m<module>\u001b[0;34m\u001b[0m\n\u001b[1;32m      4\u001b[0m \u001b[0;34m\u001b[0m\u001b[0m\n\u001b[1;32m      5\u001b[0m \u001b[0;32mif\u001b[0m \u001b[0;32mnot\u001b[0m \u001b[0mos\u001b[0m\u001b[0;34m.\u001b[0m\u001b[0mpath\u001b[0m\u001b[0;34m.\u001b[0m\u001b[0mexists\u001b[0m\u001b[0;34m(\u001b[0m\u001b[0mEXPORT_PATH\u001b[0m\u001b[0;34m)\u001b[0m\u001b[0;34m:\u001b[0m\u001b[0;34m\u001b[0m\u001b[0;34m\u001b[0m\u001b[0m\n\u001b[0;32m----> 6\u001b[0;31m     \u001b[0mos\u001b[0m\u001b[0;34m.\u001b[0m\u001b[0mmakedirs\u001b[0m\u001b[0;34m(\u001b[0m\u001b[0mEXPORT_PATH\u001b[0m\u001b[0;34m)\u001b[0m\u001b[0;34m\u001b[0m\u001b[0;34m\u001b[0m\u001b[0m\n\u001b[0m\u001b[1;32m      7\u001b[0m \u001b[0mget_ipython\u001b[0m\u001b[0;34m(\u001b[0m\u001b[0;34m)\u001b[0m\u001b[0;34m.\u001b[0m\u001b[0msystem\u001b[0m\u001b[0;34m(\u001b[0m\u001b[0;34m'ls $PROJECT_PATH'\u001b[0m\u001b[0;34m)\u001b[0m\u001b[0;34m\u001b[0m\u001b[0;34m\u001b[0m\u001b[0m\n",
            "\u001b[0;32m/usr/lib/python3.8/os.py\u001b[0m in \u001b[0;36mmakedirs\u001b[0;34m(name, mode, exist_ok)\u001b[0m\n\u001b[1;32m    221\u001b[0m             \u001b[0;32mreturn\u001b[0m\u001b[0;34m\u001b[0m\u001b[0;34m\u001b[0m\u001b[0m\n\u001b[1;32m    222\u001b[0m     \u001b[0;32mtry\u001b[0m\u001b[0;34m:\u001b[0m\u001b[0;34m\u001b[0m\u001b[0;34m\u001b[0m\u001b[0m\n\u001b[0;32m--> 223\u001b[0;31m         \u001b[0mmkdir\u001b[0m\u001b[0;34m(\u001b[0m\u001b[0mname\u001b[0m\u001b[0;34m,\u001b[0m \u001b[0mmode\u001b[0m\u001b[0;34m)\u001b[0m\u001b[0;34m\u001b[0m\u001b[0;34m\u001b[0m\u001b[0m\n\u001b[0m\u001b[1;32m    224\u001b[0m     \u001b[0;32mexcept\u001b[0m \u001b[0mOSError\u001b[0m\u001b[0;34m:\u001b[0m\u001b[0;34m\u001b[0m\u001b[0;34m\u001b[0m\u001b[0m\n\u001b[1;32m    225\u001b[0m         \u001b[0;31m# Cannot rely on checking for EEXIST, since the operating system\u001b[0m\u001b[0;34m\u001b[0m\u001b[0;34m\u001b[0m\u001b[0;34m\u001b[0m\u001b[0m\n",
            "\u001b[0;31mFileNotFoundError\u001b[0m: [Errno 2] No such file or directory: ''"
          ]
        }
      ]
    },
    {
      "cell_type": "markdown",
      "metadata": {
        "id": "l_IU-gURubb3",
        "colab_type": "text"
      },
      "source": [
        "## Pre-Processing "
      ]
    },
    {
      "cell_type": "code",
      "metadata": {
        "id": "vP0BLEU-ubb5",
        "colab_type": "code",
        "colab": {}
      },
      "source": [
        "#Parse all JSONs and store in a variable\n",
        "all_json = glob.glob(os.path.join(DATASET_PATH, \"document_parses/**/*.json\"), recursive=True)"
      ],
      "execution_count": null,
      "outputs": []
    },
    {
      "cell_type": "code",
      "metadata": {
        "id": "CU5tfDuBubb_",
        "colab_type": "code",
        "colab": {}
      },
      "source": [
        "#Store metadata information in a variable\n",
        "metadata_df = pd.read_csv(os.path.join(DATASET_PATH, 'metadata.csv'), \n",
        "                      low_memory=False, \n",
        "                      dtype={\n",
        "                            'pubmed_id': str,\n",
        "                            'Microsoft Academic Paper ID': str, \n",
        "                            'doi': str\n",
        "                        }\n",
        "                     )"
      ],
      "execution_count": null,
      "outputs": []
    },
    {
      "cell_type": "code",
      "metadata": {
        "id": "Jks5D3-HubcG",
        "colab_type": "code",
        "colab": {},
        "outputId": "7ec3e8ab-49c4-41ac-a1bf-c352450da070"
      },
      "source": [
        "metadata_df.head()"
      ],
      "execution_count": null,
      "outputs": [
        {
          "output_type": "execute_result",
          "data": {
            "text/html": [
              "<div>\n",
              "<style scoped>\n",
              "    .dataframe tbody tr th:only-of-type {\n",
              "        vertical-align: middle;\n",
              "    }\n",
              "\n",
              "    .dataframe tbody tr th {\n",
              "        vertical-align: top;\n",
              "    }\n",
              "\n",
              "    .dataframe thead th {\n",
              "        text-align: right;\n",
              "    }\n",
              "</style>\n",
              "<table border=\"1\" class=\"dataframe\">\n",
              "  <thead>\n",
              "    <tr style=\"text-align: right;\">\n",
              "      <th></th>\n",
              "      <th>cord_uid</th>\n",
              "      <th>sha</th>\n",
              "      <th>source_x</th>\n",
              "      <th>title</th>\n",
              "      <th>doi</th>\n",
              "      <th>pmcid</th>\n",
              "      <th>pubmed_id</th>\n",
              "      <th>license</th>\n",
              "      <th>abstract</th>\n",
              "      <th>publish_time</th>\n",
              "      <th>authors</th>\n",
              "      <th>journal</th>\n",
              "      <th>mag_id</th>\n",
              "      <th>who_covidence_id</th>\n",
              "      <th>arxiv_id</th>\n",
              "      <th>pdf_json_files</th>\n",
              "      <th>pmc_json_files</th>\n",
              "      <th>url</th>\n",
              "      <th>s2_id</th>\n",
              "    </tr>\n",
              "  </thead>\n",
              "  <tbody>\n",
              "    <tr>\n",
              "      <th>0</th>\n",
              "      <td>ug7v899j</td>\n",
              "      <td>d1aafb70c066a2068b02786f8929fd9c900897fb</td>\n",
              "      <td>PMC</td>\n",
              "      <td>Clinical features of culture-proven Mycoplasma...</td>\n",
              "      <td>10.1186/1471-2334-1-6</td>\n",
              "      <td>PMC35282</td>\n",
              "      <td>11472636</td>\n",
              "      <td>no-cc</td>\n",
              "      <td>OBJECTIVE: This retrospective chart review des...</td>\n",
              "      <td>2001-07-04</td>\n",
              "      <td>Madani, Tariq A; Al-Ghamdi, Aisha A</td>\n",
              "      <td>BMC Infect Dis</td>\n",
              "      <td>NaN</td>\n",
              "      <td>NaN</td>\n",
              "      <td>NaN</td>\n",
              "      <td>document_parses/pdf_json/d1aafb70c066a2068b027...</td>\n",
              "      <td>document_parses/pmc_json/PMC35282.xml.json</td>\n",
              "      <td>https://www.ncbi.nlm.nih.gov/pmc/articles/PMC3...</td>\n",
              "      <td>NaN</td>\n",
              "    </tr>\n",
              "    <tr>\n",
              "      <th>1</th>\n",
              "      <td>02tnwd4m</td>\n",
              "      <td>6b0567729c2143a66d737eb0a2f63f2dce2e5a7d</td>\n",
              "      <td>PMC</td>\n",
              "      <td>Nitric oxide: a pro-inflammatory mediator in l...</td>\n",
              "      <td>10.1186/rr14</td>\n",
              "      <td>PMC59543</td>\n",
              "      <td>11667967</td>\n",
              "      <td>no-cc</td>\n",
              "      <td>Inflammatory diseases of the respiratory tract...</td>\n",
              "      <td>2000-08-15</td>\n",
              "      <td>Vliet, Albert van der; Eiserich, Jason P; Cros...</td>\n",
              "      <td>Respir Res</td>\n",
              "      <td>NaN</td>\n",
              "      <td>NaN</td>\n",
              "      <td>NaN</td>\n",
              "      <td>document_parses/pdf_json/6b0567729c2143a66d737...</td>\n",
              "      <td>document_parses/pmc_json/PMC59543.xml.json</td>\n",
              "      <td>https://www.ncbi.nlm.nih.gov/pmc/articles/PMC5...</td>\n",
              "      <td>NaN</td>\n",
              "    </tr>\n",
              "    <tr>\n",
              "      <th>2</th>\n",
              "      <td>ejv2xln0</td>\n",
              "      <td>06ced00a5fc04215949aa72528f2eeaae1d58927</td>\n",
              "      <td>PMC</td>\n",
              "      <td>Surfactant protein-D and pulmonary host defense</td>\n",
              "      <td>10.1186/rr19</td>\n",
              "      <td>PMC59549</td>\n",
              "      <td>11667972</td>\n",
              "      <td>no-cc</td>\n",
              "      <td>Surfactant protein-D (SP-D) participates in th...</td>\n",
              "      <td>2000-08-25</td>\n",
              "      <td>Crouch, Erika C</td>\n",
              "      <td>Respir Res</td>\n",
              "      <td>NaN</td>\n",
              "      <td>NaN</td>\n",
              "      <td>NaN</td>\n",
              "      <td>document_parses/pdf_json/06ced00a5fc04215949aa...</td>\n",
              "      <td>document_parses/pmc_json/PMC59549.xml.json</td>\n",
              "      <td>https://www.ncbi.nlm.nih.gov/pmc/articles/PMC5...</td>\n",
              "      <td>NaN</td>\n",
              "    </tr>\n",
              "    <tr>\n",
              "      <th>3</th>\n",
              "      <td>2b73a28n</td>\n",
              "      <td>348055649b6b8cf2b9a376498df9bf41f7123605</td>\n",
              "      <td>PMC</td>\n",
              "      <td>Role of endothelin-1 in lung disease</td>\n",
              "      <td>10.1186/rr44</td>\n",
              "      <td>PMC59574</td>\n",
              "      <td>11686871</td>\n",
              "      <td>no-cc</td>\n",
              "      <td>Endothelin-1 (ET-1) is a 21 amino acid peptide...</td>\n",
              "      <td>2001-02-22</td>\n",
              "      <td>Fagan, Karen A; McMurtry, Ivan F; Rodman, David M</td>\n",
              "      <td>Respir Res</td>\n",
              "      <td>NaN</td>\n",
              "      <td>NaN</td>\n",
              "      <td>NaN</td>\n",
              "      <td>document_parses/pdf_json/348055649b6b8cf2b9a37...</td>\n",
              "      <td>document_parses/pmc_json/PMC59574.xml.json</td>\n",
              "      <td>https://www.ncbi.nlm.nih.gov/pmc/articles/PMC5...</td>\n",
              "      <td>NaN</td>\n",
              "    </tr>\n",
              "    <tr>\n",
              "      <th>4</th>\n",
              "      <td>9785vg6d</td>\n",
              "      <td>5f48792a5fa08bed9f56016f4981ae2ca6031b32</td>\n",
              "      <td>PMC</td>\n",
              "      <td>Gene expression in epithelial cells in respons...</td>\n",
              "      <td>10.1186/rr61</td>\n",
              "      <td>PMC59580</td>\n",
              "      <td>11686888</td>\n",
              "      <td>no-cc</td>\n",
              "      <td>Respiratory syncytial virus (RSV) and pneumoni...</td>\n",
              "      <td>2001-05-11</td>\n",
              "      <td>Domachowske, Joseph B; Bonville, Cynthia A; Ro...</td>\n",
              "      <td>Respir Res</td>\n",
              "      <td>NaN</td>\n",
              "      <td>NaN</td>\n",
              "      <td>NaN</td>\n",
              "      <td>document_parses/pdf_json/5f48792a5fa08bed9f560...</td>\n",
              "      <td>document_parses/pmc_json/PMC59580.xml.json</td>\n",
              "      <td>https://www.ncbi.nlm.nih.gov/pmc/articles/PMC5...</td>\n",
              "      <td>NaN</td>\n",
              "    </tr>\n",
              "  </tbody>\n",
              "</table>\n",
              "</div>"
            ],
            "text/plain": [
              "   cord_uid                                       sha source_x  \\\n",
              "0  ug7v899j  d1aafb70c066a2068b02786f8929fd9c900897fb      PMC   \n",
              "1  02tnwd4m  6b0567729c2143a66d737eb0a2f63f2dce2e5a7d      PMC   \n",
              "2  ejv2xln0  06ced00a5fc04215949aa72528f2eeaae1d58927      PMC   \n",
              "3  2b73a28n  348055649b6b8cf2b9a376498df9bf41f7123605      PMC   \n",
              "4  9785vg6d  5f48792a5fa08bed9f56016f4981ae2ca6031b32      PMC   \n",
              "\n",
              "                                               title                    doi  \\\n",
              "0  Clinical features of culture-proven Mycoplasma...  10.1186/1471-2334-1-6   \n",
              "1  Nitric oxide: a pro-inflammatory mediator in l...           10.1186/rr14   \n",
              "2    Surfactant protein-D and pulmonary host defense           10.1186/rr19   \n",
              "3               Role of endothelin-1 in lung disease           10.1186/rr44   \n",
              "4  Gene expression in epithelial cells in respons...           10.1186/rr61   \n",
              "\n",
              "      pmcid pubmed_id license  \\\n",
              "0  PMC35282  11472636   no-cc   \n",
              "1  PMC59543  11667967   no-cc   \n",
              "2  PMC59549  11667972   no-cc   \n",
              "3  PMC59574  11686871   no-cc   \n",
              "4  PMC59580  11686888   no-cc   \n",
              "\n",
              "                                            abstract publish_time  \\\n",
              "0  OBJECTIVE: This retrospective chart review des...   2001-07-04   \n",
              "1  Inflammatory diseases of the respiratory tract...   2000-08-15   \n",
              "2  Surfactant protein-D (SP-D) participates in th...   2000-08-25   \n",
              "3  Endothelin-1 (ET-1) is a 21 amino acid peptide...   2001-02-22   \n",
              "4  Respiratory syncytial virus (RSV) and pneumoni...   2001-05-11   \n",
              "\n",
              "                                             authors         journal  mag_id  \\\n",
              "0                Madani, Tariq A; Al-Ghamdi, Aisha A  BMC Infect Dis     NaN   \n",
              "1  Vliet, Albert van der; Eiserich, Jason P; Cros...      Respir Res     NaN   \n",
              "2                                    Crouch, Erika C      Respir Res     NaN   \n",
              "3  Fagan, Karen A; McMurtry, Ivan F; Rodman, David M      Respir Res     NaN   \n",
              "4  Domachowske, Joseph B; Bonville, Cynthia A; Ro...      Respir Res     NaN   \n",
              "\n",
              "  who_covidence_id arxiv_id  \\\n",
              "0              NaN      NaN   \n",
              "1              NaN      NaN   \n",
              "2              NaN      NaN   \n",
              "3              NaN      NaN   \n",
              "4              NaN      NaN   \n",
              "\n",
              "                                      pdf_json_files  \\\n",
              "0  document_parses/pdf_json/d1aafb70c066a2068b027...   \n",
              "1  document_parses/pdf_json/6b0567729c2143a66d737...   \n",
              "2  document_parses/pdf_json/06ced00a5fc04215949aa...   \n",
              "3  document_parses/pdf_json/348055649b6b8cf2b9a37...   \n",
              "4  document_parses/pdf_json/5f48792a5fa08bed9f560...   \n",
              "\n",
              "                               pmc_json_files  \\\n",
              "0  document_parses/pmc_json/PMC35282.xml.json   \n",
              "1  document_parses/pmc_json/PMC59543.xml.json   \n",
              "2  document_parses/pmc_json/PMC59549.xml.json   \n",
              "3  document_parses/pmc_json/PMC59574.xml.json   \n",
              "4  document_parses/pmc_json/PMC59580.xml.json   \n",
              "\n",
              "                                                 url  s2_id  \n",
              "0  https://www.ncbi.nlm.nih.gov/pmc/articles/PMC3...    NaN  \n",
              "1  https://www.ncbi.nlm.nih.gov/pmc/articles/PMC5...    NaN  \n",
              "2  https://www.ncbi.nlm.nih.gov/pmc/articles/PMC5...    NaN  \n",
              "3  https://www.ncbi.nlm.nih.gov/pmc/articles/PMC5...    NaN  \n",
              "4  https://www.ncbi.nlm.nih.gov/pmc/articles/PMC5...    NaN  "
            ]
          },
          "metadata": {
            "tags": []
          },
          "execution_count": 6
        }
      ]
    },
    {
      "cell_type": "code",
      "metadata": {
        "id": "48zr5a2XubcN",
        "colab_type": "code",
        "colab": {}
      },
      "source": [
        "class PaperReader:\n",
        "    def __init__(self, file_path):\n",
        "        with open(file_path) as file:\n",
        "            content = json.load(file)\n",
        "            self.paper_id = content['paper_id']\n",
        "            self.abstract = []\n",
        "            self.body_text = []\n",
        "            # Abstract\n",
        "            try:\n",
        "                for entry in content['abstract']:\n",
        "                    self.abstract.append(entry['text'])\n",
        "            except:\n",
        "                self.abstract.append(\"No abstract available\")\n",
        "            for entry in content[\"body_text\"]:\n",
        "                self.body_text.append(entry['text'])\n",
        "            self.abstract = '. '.join(self.abstract)\n",
        "            self.body_text = '. '.join(self.body_text)\n",
        "    def __repr__(self):\n",
        "        return f\"{self.paper_id}: {self.abstract[:200]}... {self.body_text[:200]}...\""
      ],
      "execution_count": null,
      "outputs": []
    },
    {
      "cell_type": "code",
      "metadata": {
        "collapsed": true,
        "id": "FggN7FjbubcS",
        "colab_type": "code",
        "colab": {
          "referenced_widgets": [
            "9555f5b76a2042bb9ea1ea1367ff7082"
          ]
        },
        "outputId": "da1b9ea7-6f5a-47e8-f62b-9909b037b563"
      },
      "source": [
        "dict_ = {'paper_id': [], \n",
        "         'abstract': [], \n",
        "         'body_text': [], \n",
        "         'authors': [], \n",
        "         'title': [], \n",
        "         'journal': [], \n",
        "         'publish_time': [], \n",
        "         'abstract_summary': [],\n",
        "         'doi': [],\n",
        "         'url': [],\n",
        "         'source_x': []\n",
        "        }\n",
        "\n",
        "for idx, entry in tqdm_notebook(enumerate(all_json), total=len(all_json)):\n",
        "    content = PaperReader(entry)\n",
        "    \n",
        "    # get metadata information\n",
        "    meta_data = metadata_df.loc[metadata_df['sha'] == content.paper_id]\n",
        "    # no metadata, skip this paper\n",
        "    if len(meta_data) == 0:\n",
        "        continue\n",
        "    \n",
        "    dict_['paper_id'].append(content.paper_id)\n",
        "    dict_['abstract'].append(content.abstract)\n",
        "    dict_['body_text'].append(content.body_text)\n",
        "    \n",
        "    try:\n",
        "        authors = meta_data['authors'].values[0].split(';')\n",
        "        dict_['authors'].append(\". \".join(authors))\n",
        "    except Exception as e:\n",
        "        # if Null value\n",
        "        dict_['authors'].append(meta_data['authors'].values[0])\n",
        "    \n",
        "    # add the title information\n",
        "    dict_['title'].append(meta_data['title'].values[0])\n",
        "    \n",
        "    # add the journal information\n",
        "    dict_['journal'].append(meta_data['journal'].values[0])\n",
        "    \n",
        "    # add the publishing data\n",
        "    dict_['publish_time'].append(meta_data['publish_time'].values[0])\n",
        "    \n",
        "    # add doi \n",
        "    dict_['doi'].append(meta_data['doi'].values[0])\n",
        "    \n",
        "    # add source\n",
        "    dict_['source_x'].append(meta_data['source_x'].values[0])\n",
        "    \n",
        "    # add url\n",
        "    dict_['url'].append(meta_data['url'].values[0])    "
      ],
      "execution_count": null,
      "outputs": [
        {
          "output_type": "display_data",
          "data": {
            "application/vnd.jupyter.widget-view+json": {
              "model_id": "9555f5b76a2042bb9ea1ea1367ff7082",
              "version_major": 2,
              "version_minor": 0
            },
            "text/plain": [
              "HBox(children=(FloatProgress(value=0.0, max=129922.0), HTML(value='')))"
            ]
          },
          "metadata": {
            "tags": []
          }
        },
        {
          "output_type": "stream",
          "text": [
            "\n"
          ],
          "name": "stdout"
        }
      ]
    },
    {
      "cell_type": "code",
      "metadata": {
        "id": "lldrrhOBubcX",
        "colab_type": "code",
        "colab": {}
      },
      "source": [
        "columns = ['paper_id', 'abstract', 'body_text', 'authors', 'title', 'journal', 'publish_time', 'doi', \n",
        "           'source_x', 'url']\n",
        "\n",
        "df_covid = pd.DataFrame(dict_, columns=columns)"
      ],
      "execution_count": null,
      "outputs": []
    },
    {
      "cell_type": "code",
      "metadata": {
        "id": "_RAkNbrBubce",
        "colab_type": "code",
        "colab": {}
      },
      "source": [
        "df_covid.to_csv(os.path.join(EXPORT_PATH, 'original.csv'), index=False)"
      ],
      "execution_count": null,
      "outputs": []
    },
    {
      "cell_type": "code",
      "metadata": {
        "id": "oIjX5M6Wubcj",
        "colab_type": "code",
        "colab": {}
      },
      "source": [
        "df_covid.drop_duplicates(['title'], inplace=True)\n",
        "df_covid.dropna(subset=['body_text'], inplace=True)\n",
        "df_covid = df_covid[~df_covid.title.isnull()]\n",
        "df_covid.reset_index(inplace=True, drop=True)"
      ],
      "execution_count": null,
      "outputs": []
    },
    {
      "cell_type": "code",
      "metadata": {
        "collapsed": true,
        "id": "yOANjQloubcm",
        "colab_type": "code",
        "colab": {
          "referenced_widgets": [
            "d66ce07470c24cfd927fb90666e8c4d0"
          ]
        },
        "outputId": "105dea45-1dc0-4c02-f029-847274bdb1f7"
      },
      "source": [
        "covid_terms =['covid', 'corona virus', 'coronavirus disease 19', 'sars cov 2', '2019 ncov', '2019ncov', '2019 n cov', '2019n cov',\n",
        "              'ncov 2019', 'n cov 2019', 'coronavirus 2019', 'wuhan pneumonia', 'wuhan virus', 'wuhan coronavirus',\n",
        "              'coronavirus 2', 'covid-19', 'SARS-CoV-2', '2019-nCov']\n",
        "covid_terms = [elem.lower() for elem in covid_terms]\n",
        "covid_terms = re.compile('|'.join(covid_terms))\n",
        "\n",
        "def checkYear(date):\n",
        "    return int(date[0:4])\n",
        "\n",
        "def checkCovid(row, covid_terms):\n",
        "    return bool(covid_terms.search(row['body_text'].lower())) and checkYear(row['publish_time']) > 2019\n",
        "df_covid['is_covid'] = df_covid.progress_apply(checkCovid, axis=1, covid_terms=covid_terms)"
      ],
      "execution_count": null,
      "outputs": [
        {
          "output_type": "display_data",
          "data": {
            "application/vnd.jupyter.widget-view+json": {
              "model_id": "d66ce07470c24cfd927fb90666e8c4d0",
              "version_major": 2,
              "version_minor": 0
            },
            "text/plain": [
              "HBox(children=(FloatProgress(value=0.0, max=66089.0), HTML(value='')))"
            ]
          },
          "metadata": {
            "tags": []
          }
        },
        {
          "output_type": "stream",
          "text": [
            "\n"
          ],
          "name": "stdout"
        }
      ]
    },
    {
      "cell_type": "code",
      "metadata": {
        "id": "XR1V0zrsubcq",
        "colab_type": "code",
        "colab": {}
      },
      "source": [
        "#Keeping papers only after 2010\n",
        "df_covid = df_covid[df_covid.publish_time.map(lambda d: checkYear(d) >= 2010)]\n",
        "df_covid = df_covid.reset_index(drop=True)"
      ],
      "execution_count": null,
      "outputs": []
    },
    {
      "cell_type": "code",
      "metadata": {
        "collapsed": true,
        "id": "gZ5hgnG4ubcv",
        "colab_type": "code",
        "colab": {
          "referenced_widgets": [
            "3ed376939bb644b38474ffa3090c05a2"
          ]
        },
        "outputId": "e9574672-746a-4387-eb40-d760ab80d650"
      },
      "source": [
        "def preprocessing(text):\n",
        "    # remove mail\n",
        "    text = re.sub(r'[a-z0-9._%+-]+@[a-z0-9.-]+\\.[a-z]{2,}', ' ', text)\n",
        "    # remove doi\n",
        "    text = re.sub(r'https\\:\\/\\/doi\\.org[^\\s]+', 'DOI', text)\n",
        "    # remove https\n",
        "    text = re.sub(r'(\\()?\\s?http(s)?\\:\\/\\/[^\\)]+(\\))?', ' ', text)\n",
        "    # remove single characters repeated at least 3 times for spacing error (e.g. s u m m a r y)\n",
        "    text = re.sub(r'(\\w\\s+){3,}', ' ', text)\n",
        "    # replace tags (e.g. [3] [4] [5]) with whitespace\n",
        "    text = re.sub(r'(\\[\\d+\\]\\,?\\s?){3,}(\\.|\\,)?', ' ', text)\n",
        "    # replace tags (e.g. [3, 4, 5]) with whitespace\n",
        "    text = re.sub(r'\\[[\\d\\,\\s]+\\]', ' ', text)\n",
        "     # replace tags (e.g. (NUM1) repeated at least 3 times with whitespace\n",
        "    text = re.sub(r'(\\(\\d+\\)\\s){3,}', ' ', text)\n",
        "    # replace '1.3' with '1,3' (we need it for split later)\n",
        "    text = re.sub(r'(\\d+)\\.(\\d+)', ' ', text)\n",
        "    # remove all full stops as abbreviations (e.g. i.e. cit. and so on)\n",
        "    text = re.sub(r'\\.(\\s)?([^A-Z\\s])', ' \\g<1>\\g<2>', text)\n",
        "    # correctly spacing the tokens\n",
        "    text = re.sub(r' {2,}', ' ', text)\n",
        "    text = re.sub(r'\\.{2,}', '.', text)\n",
        "    # return lowercase text\n",
        "    return text.lower()\n",
        "\n",
        "df_covid['preproc_body_text'] = df_covid['body_text'].progress_apply(preprocessing)"
      ],
      "execution_count": null,
      "outputs": [
        {
          "output_type": "display_data",
          "data": {
            "application/vnd.jupyter.widget-view+json": {
              "model_id": "3ed376939bb644b38474ffa3090c05a2",
              "version_major": 2,
              "version_minor": 0
            },
            "text/plain": [
              "HBox(children=(FloatProgress(value=0.0, max=52709.0), HTML(value='')))"
            ]
          },
          "metadata": {
            "tags": []
          }
        },
        {
          "output_type": "stream",
          "text": [
            "\n"
          ],
          "name": "stdout"
        }
      ]
    },
    {
      "cell_type": "markdown",
      "metadata": {
        "id": "CzeCMqmFubcz",
        "colab_type": "text"
      },
      "source": [
        "### Filtering out only English Research Papers"
      ]
    },
    {
      "cell_type": "code",
      "metadata": {
        "collapsed": true,
        "id": "3ses4hUuubcz",
        "colab_type": "code",
        "colab": {},
        "outputId": "27ff7785-cc7c-421a-cfd9-e6fde3aad79b"
      },
      "source": [
        "def detect_language(row):\n",
        "    try:\n",
        "        return detect(row['preproc_body_text'])\n",
        "    except:\n",
        "        try:\n",
        "            return detect(row['title'])\n",
        "        except: \n",
        "            return 'NC'\n",
        "\n",
        "df_covid['language'] = df_covid.progress_apply(detect_language, axis=1)\n",
        "df_covid = df_covid[df_covid['language'] == 'en']\n",
        "df_covid = df_covid.reset_index(drop=True)"
      ],
      "execution_count": null,
      "outputs": [
        {
          "output_type": "stream",
          "text": [
            " cord-19-dataset\t\t       covidbert-model\r\n",
            "'CoronaXiv Data Preprocessing.ipynb'   exported-data\r\n"
          ],
          "name": "stdout"
        }
      ]
    },
    {
      "cell_type": "code",
      "metadata": {
        "id": "EoVCUiDXubc5",
        "colab_type": "code",
        "colab": {}
      },
      "source": [
        "df_covid.to_csv(os.path.join(EXPORT_PATH, 'metadata.csv'), index=False)"
      ],
      "execution_count": null,
      "outputs": []
    },
    {
      "cell_type": "code",
      "metadata": {
        "id": "uMEPsHvqubc8",
        "colab_type": "code",
        "colab": {}
      },
      "source": [
        "doi_list = df_covid[~df_covid['doi'].isnull()]['doi'].unique().tolist()"
      ],
      "execution_count": null,
      "outputs": []
    },
    {
      "cell_type": "markdown",
      "metadata": {
        "id": "Xe2V5kWoubdA",
        "colab_type": "text"
      },
      "source": [
        "### Scrapping additional metadata about citations using the Altmetrics API"
      ]
    },
    {
      "cell_type": "code",
      "metadata": {
        "collapsed": true,
        "id": "R9Demdg9ubdA",
        "colab_type": "code",
        "colab": {},
        "outputId": "9495f61c-b8b2-4eca-a62c-9446b34bdf7e"
      },
      "source": [
        "scrape_altmetrics = False\n",
        "\n",
        "if scrape_altmetrics:\n",
        "    def get_altmetric_data(doi):\n",
        "        res = a.doi(doi)\n",
        "        return res\n",
        "    \n",
        "    altmetrics_data = []\n",
        "    a = Altmetric()\n",
        "\n",
        "    for doi in tqdm_notebook(doi_list):\n",
        "        res = a.doi(doi)\n",
        "        altmetrics_data.append(res)\n",
        "\n",
        "    altmetrics_data = [d for d in altmetrics_data if d is not None]\n",
        "    \n",
        "    altmetrics_columns = [\n",
        "        'doi',\n",
        "        'score',\n",
        "        'readers_count',\n",
        "        'cited_by_posts_count',\n",
        "        'cited_by_tweeters_count',\n",
        "        'cited_by_fbwalls_count',\n",
        "        'cited_by_wikipedia_count',\n",
        "        'subjects',\n",
        "    ]\n",
        "\n",
        "    df_altmetrics = pd.DataFrame(altmetrics_data, columns=altmetrics_columns)\n",
        "    joblib.dump(df_altmetrics, os.path.join(EXPORT_PATH, 'altmetrics.joblib'))\n",
        "\n",
        "else:\n",
        "    df_altmetrics = joblib.load(os.path.join(EXPORT_PATH, 'altmetrics.joblib'))"
      ],
      "execution_count": null,
      "outputs": [
        {
          "output_type": "display_data",
          "data": {
            "application/vnd.jupyter.widget-view+json": {
              "model_id": "2d06ce9bedb64c6192861e47ee33c5a0",
              "version_major": 2,
              "version_minor": 0
            },
            "text/plain": [
              "HBox(children=(FloatProgress(value=0.0, max=51071.0), HTML(value='')))"
            ]
          },
          "metadata": {
            "tags": []
          }
        },
        {
          "output_type": "stream",
          "text": [
            "\n"
          ],
          "name": "stdout"
        },
        {
          "output_type": "error",
          "ename": "NameError",
          "evalue": "name 'export_path' is not defined",
          "traceback": [
            "\u001b[0;31m---------------------------------------------------------------------------\u001b[0m",
            "\u001b[0;31mNameError\u001b[0m                                 Traceback (most recent call last)",
            "\u001b[0;32m<ipython-input-19-b77b6a0b06e9>\u001b[0m in \u001b[0;36m<module>\u001b[0;34m\u001b[0m\n\u001b[1;32m     27\u001b[0m \u001b[0;34m\u001b[0m\u001b[0m\n\u001b[1;32m     28\u001b[0m     \u001b[0mdf_altmetrics\u001b[0m \u001b[0;34m=\u001b[0m \u001b[0mpd\u001b[0m\u001b[0;34m.\u001b[0m\u001b[0mDataFrame\u001b[0m\u001b[0;34m(\u001b[0m\u001b[0maltmetrics_data\u001b[0m\u001b[0;34m,\u001b[0m \u001b[0mcolumns\u001b[0m\u001b[0;34m=\u001b[0m\u001b[0maltmetrics_columns\u001b[0m\u001b[0;34m)\u001b[0m\u001b[0;34m\u001b[0m\u001b[0;34m\u001b[0m\u001b[0m\n\u001b[0;32m---> 29\u001b[0;31m     \u001b[0mjoblib\u001b[0m\u001b[0;34m.\u001b[0m\u001b[0mdump\u001b[0m\u001b[0;34m(\u001b[0m\u001b[0mdf_altmetrics\u001b[0m\u001b[0;34m,\u001b[0m \u001b[0mos\u001b[0m\u001b[0;34m.\u001b[0m\u001b[0mpath\u001b[0m\u001b[0;34m.\u001b[0m\u001b[0mjoin\u001b[0m\u001b[0;34m(\u001b[0m\u001b[0mexport_path\u001b[0m\u001b[0;34m,\u001b[0m \u001b[0;34m'altmetrics.joblib'\u001b[0m\u001b[0;34m)\u001b[0m\u001b[0;34m)\u001b[0m\u001b[0;34m\u001b[0m\u001b[0;34m\u001b[0m\u001b[0m\n\u001b[0m\u001b[1;32m     30\u001b[0m \u001b[0;34m\u001b[0m\u001b[0m\n\u001b[1;32m     31\u001b[0m \u001b[0;32melse\u001b[0m\u001b[0;34m:\u001b[0m\u001b[0;34m\u001b[0m\u001b[0;34m\u001b[0m\u001b[0m\n",
            "\u001b[0;31mNameError\u001b[0m: name 'export_path' is not defined"
          ]
        }
      ]
    },
    {
      "cell_type": "code",
      "metadata": {
        "id": "zHVKaNREubdE",
        "colab_type": "code",
        "colab": {}
      },
      "source": [
        "df_covid = df_covid.merge(df_altmetrics, how='left', on='doi')"
      ],
      "execution_count": null,
      "outputs": []
    },
    {
      "cell_type": "code",
      "metadata": {
        "id": "Ozp2mOYXubdH",
        "colab_type": "code",
        "colab": {}
      },
      "source": [
        "df_covid.to_csv(os.path.join(EXPORT_PATH, 'metadata.csv'), index=False)"
      ],
      "execution_count": null,
      "outputs": []
    },
    {
      "cell_type": "markdown",
      "metadata": {
        "id": "SZEYf337ubdL",
        "colab_type": "text"
      },
      "source": [
        "### Scrapping H-Index using Scimago API"
      ]
    },
    {
      "cell_type": "code",
      "metadata": {
        "collapsed": true,
        "id": "lQyiL13mubdL",
        "colab_type": "code",
        "colab": {},
        "outputId": "3c6bdbe2-133a-4952-a2a8-db80d5013845"
      },
      "source": [
        "scrape_scimago = True\n",
        "df_covid = metadata\n",
        "if scrape_scimago:\n",
        "\n",
        "    def parse_page(url):\n",
        "        return BeautifulSoup(requests.get(url).content, 'html.parser')\n",
        "    \n",
        "    journals = df_covid.journal.dropna().unique().tolist()    \n",
        "\n",
        "    def get_h_index(url):\n",
        "        soup = parse_page(url)\n",
        "        h_index_div = soup.find('div', {'class': 'hindexnumber'})\n",
        "        if h_index_div:\n",
        "            h_index = h_index_div.text\n",
        "        return h_index\n",
        "\n",
        "    def extract_info(query):\n",
        "        original_title = query\n",
        "        query = urllib.parse.quote_plus(query)\n",
        "        url = f\"https://www.scimagojr.com/journalsearch.php?q={query}\"\n",
        "        soup = parse_page(url)\n",
        "\n",
        "        search_results = soup.find('div', {'class': 'search_results'}).find_all('a')\n",
        "        if search_results == []:\n",
        "            full_title = None\n",
        "            h_index = None\n",
        "\n",
        "        else:\n",
        "            first_result = search_results[0]\n",
        "            full_title = first_result.find('span').text\n",
        "            url_journal = 'https://www.scimagojr.com/' + first_result['href']\n",
        "            h_index = get_h_index(url_journal)\n",
        "\n",
        "        info = {\n",
        "            'original_title': original_title,\n",
        "            'query': query,\n",
        "            'full_title': full_title,\n",
        "            'h_index': h_index\n",
        "        }\n",
        "        return info\n",
        "\n",
        "    with Pool(processes=12) as pool, tqdm_notebook(total=len(journals)) as pbar:\n",
        "        scimago_data = []\n",
        "        for info in pool.imap_unordered(extract_info, journals):\n",
        "            scimago_data.append(info)\n",
        "            pbar.update()\n",
        "            \n",
        "    df_scimago = pd.DataFrame(scimago_data)\n",
        "    joblib.dump(df_scimago, os.path.join(EXPORT_PATH, 'scimago.joblib'))\n",
        "\n",
        "else:\n",
        "    df_scimago = joblib.load(os.path.join(EXPORT_PATH, 'scimago.joblib'))\n",
        "    \n",
        "\n",
        "mapping_title_hindex = dict(zip(df_scimago['original_title'], df_scimago['h_index']))\n",
        "df_covid['h_index'] = df_covid.journal.map(lambda j: mapping_title_hindex[j] if j in mapping_title_hindex else j)\n",
        "df_covid['source_x'] = df_covid.source_x.map(lambda s: s.split(';')[0])"
      ],
      "execution_count": null,
      "outputs": [
        {
          "output_type": "display_data",
          "data": {
            "application/vnd.jupyter.widget-view+json": {
              "model_id": "0d725038c1b646aa95e908bac9988c6e",
              "version_major": 2,
              "version_minor": 0
            },
            "text/plain": [
              "HBox(children=(FloatProgress(value=0.0, max=7295.0), HTML(value='')))"
            ]
          },
          "metadata": {
            "tags": []
          }
        },
        {
          "output_type": "stream",
          "text": [
            "\n"
          ],
          "name": "stdout"
        }
      ]
    },
    {
      "cell_type": "code",
      "metadata": {
        "id": "p-4Svaq9ubdP",
        "colab_type": "code",
        "colab": {}
      },
      "source": [
        "df_covid['peer_reviewed'] = df_covid['journal'].map(lambda j: False if type(j) == float else True)"
      ],
      "execution_count": null,
      "outputs": []
    },
    {
      "cell_type": "code",
      "metadata": {
        "id": "j5Xz4H9wubdU",
        "colab_type": "code",
        "colab": {}
      },
      "source": [
        "df_covid.to_csv(os.path.join(EXPORT_PATH, 'metadata.csv'), index=False)"
      ],
      "execution_count": null,
      "outputs": []
    },
    {
      "cell_type": "code",
      "metadata": {
        "collapsed": true,
        "id": "W1HESBq5ubdZ",
        "colab_type": "code",
        "colab": {},
        "outputId": "e0e65f4b-eeeb-4554-d959-00a70c6f7382"
      },
      "source": [
        "def get_excerpt(row):\n",
        "    if row['abstract'] == '':\n",
        "        excerpt = row['title'] + ' . ' + row['preproc_body_text'][:500]\n",
        "    else:\n",
        "        len_abstract = len(row['abstract'])\n",
        "        if len_abstract > 500:\n",
        "            excerpt = row['title'] + ' . ' + preprocessing(row['abstract'][:500])\n",
        "        else:\n",
        "            excerpt = (row['title'] + ' . ' \n",
        "                       + preprocessing(row['abstract']) + ' . ' \n",
        "                       + row['preproc_body_text'][:500 - len_abstract])\n",
        "        \n",
        "    return excerpt\n",
        "\n",
        "df_covid['excerpt'] = df_covid.progress_apply(get_excerpt, axis=1)\n",
        "df_covid.to_csv(os.path.join(EXPORT_PATH, 'metadata.csv'), index=False)"
      ],
      "execution_count": null,
      "outputs": [
        {
          "output_type": "display_data",
          "data": {
            "application/vnd.jupyter.widget-view+json": {
              "model_id": "bf0f3fe31349433abde3ae237febcde0",
              "version_major": 2,
              "version_minor": 0
            },
            "text/plain": [
              "HBox(children=(FloatProgress(value=0.0, max=52709.0), HTML(value='')))"
            ]
          },
          "metadata": {
            "tags": []
          }
        },
        {
          "output_type": "stream",
          "text": [
            "\n"
          ],
          "name": "stdout"
        }
      ]
    },
    {
      "cell_type": "markdown",
      "metadata": {
        "id": "bTFBJpsTubdd",
        "colab_type": "text"
      },
      "source": [
        "## Generating Word Embeddings using the CovidBERT Model"
      ]
    },
    {
      "cell_type": "code",
      "metadata": {
        "collapsed": true,
        "id": "MZXPTKrXubde",
        "colab_type": "code",
        "colab": {},
        "outputId": "875472fe-3488-43f6-f6c4-498671dab989"
      },
      "source": [
        "word_embedding_model = models.Transformer(os.path.join(PROJECT_PATH, \"covidbert-model/\"))\n",
        "\n",
        "# Apply mean pooling to get one fixed sized sentence vector\n",
        "pooling_model = models.Pooling(word_embedding_model.get_word_embedding_dimension(),\n",
        "                               pooling_mode_mean_tokens=True,\n",
        "                               pooling_mode_cls_token=False,\n",
        "                               pooling_mode_max_tokens=False)\n",
        "\n",
        "model = SentenceTransformer(modules=[word_embedding_model, pooling_model])"
      ],
      "execution_count": null,
      "outputs": [
        {
          "output_type": "stream",
          "text": [
            "/home/arghyadeep99/.local/lib/python3.8/site-packages/transformers/tokenization_utils.py:828: FutureWarning: Parameter max_len is deprecated and will be removed in a future release. Use model_max_length instead.\n",
            "  warnings.warn(\n"
          ],
          "name": "stderr"
        }
      ]
    },
    {
      "cell_type": "code",
      "metadata": {
        "collapsed": true,
        "id": "gd7vRcxxubdi",
        "colab_type": "code",
        "colab": {},
        "outputId": "3b3a089e-6e1a-4457-e279-4e1b6258e252"
      },
      "source": [
        "excerpt_embeddings = model.encode(df_covid.excerpt.tolist(), show_progress_bar=True, batch_size=32)\n",
        "excerpt_embeddings = np.array(excerpt_embeddings)\n",
        "np.save(os.path.join(EXPORT_PATH, 'embeddings_excerpts.npy'), excerpt_embeddings)"
      ],
      "execution_count": null,
      "outputs": [
        {
          "output_type": "stream",
          "text": [
            "Batches:   0%|          | 0/1648 [00:03<?, ?it/s]\n"
          ],
          "name": "stderr"
        },
        {
          "output_type": "error",
          "ename": "RuntimeError",
          "evalue": "CUDA error: no kernel image is available for execution on the device",
          "traceback": [
            "\u001b[0;31m---------------------------------------------------------------------------\u001b[0m",
            "\u001b[0;31mRuntimeError\u001b[0m                              Traceback (most recent call last)",
            "\u001b[0;32m<ipython-input-43-e578b14c0e7c>\u001b[0m in \u001b[0;36m<module>\u001b[0;34m\u001b[0m\n\u001b[0;32m----> 1\u001b[0;31m \u001b[0mexcerpt_embeddings\u001b[0m \u001b[0;34m=\u001b[0m \u001b[0mmodel\u001b[0m\u001b[0;34m.\u001b[0m\u001b[0mencode\u001b[0m\u001b[0;34m(\u001b[0m\u001b[0mdf_covid\u001b[0m\u001b[0;34m.\u001b[0m\u001b[0mexcerpt\u001b[0m\u001b[0;34m.\u001b[0m\u001b[0mtolist\u001b[0m\u001b[0;34m(\u001b[0m\u001b[0;34m)\u001b[0m\u001b[0;34m,\u001b[0m \u001b[0mshow_progress_bar\u001b[0m\u001b[0;34m=\u001b[0m\u001b[0;32mTrue\u001b[0m\u001b[0;34m,\u001b[0m \u001b[0mbatch_size\u001b[0m\u001b[0;34m=\u001b[0m\u001b[0;36m32\u001b[0m\u001b[0;34m)\u001b[0m\u001b[0;34m\u001b[0m\u001b[0;34m\u001b[0m\u001b[0m\n\u001b[0m\u001b[1;32m      2\u001b[0m \u001b[0mexcerpt_embeddings\u001b[0m \u001b[0;34m=\u001b[0m \u001b[0mnp\u001b[0m\u001b[0;34m.\u001b[0m\u001b[0marray\u001b[0m\u001b[0;34m(\u001b[0m\u001b[0mexcerpt_embeddings\u001b[0m\u001b[0;34m)\u001b[0m\u001b[0;34m\u001b[0m\u001b[0;34m\u001b[0m\u001b[0m\n\u001b[1;32m      3\u001b[0m \u001b[0mnp\u001b[0m\u001b[0;34m.\u001b[0m\u001b[0msave\u001b[0m\u001b[0;34m(\u001b[0m\u001b[0mos\u001b[0m\u001b[0;34m.\u001b[0m\u001b[0mpath\u001b[0m\u001b[0;34m.\u001b[0m\u001b[0mjoin\u001b[0m\u001b[0;34m(\u001b[0m\u001b[0mEXPORT_PATH\u001b[0m\u001b[0;34m,\u001b[0m \u001b[0;34m'embeddings_excerpts.npy'\u001b[0m\u001b[0;34m)\u001b[0m\u001b[0;34m,\u001b[0m \u001b[0mexcerpt_embeddings\u001b[0m\u001b[0;34m)\u001b[0m\u001b[0;34m\u001b[0m\u001b[0;34m\u001b[0m\u001b[0m\n",
            "\u001b[0;32m~/.local/lib/python3.8/site-packages/sentence_transformers/SentenceTransformer.py\u001b[0m in \u001b[0;36mencode\u001b[0;34m(self, sentences, batch_size, show_progress_bar, output_value, convert_to_numpy)\u001b[0m\n\u001b[1;32m    148\u001b[0m \u001b[0;34m\u001b[0m\u001b[0m\n\u001b[1;32m    149\u001b[0m             \u001b[0;32mwith\u001b[0m \u001b[0mtorch\u001b[0m\u001b[0;34m.\u001b[0m\u001b[0mno_grad\u001b[0m\u001b[0;34m(\u001b[0m\u001b[0;34m)\u001b[0m\u001b[0;34m:\u001b[0m\u001b[0;34m\u001b[0m\u001b[0;34m\u001b[0m\u001b[0m\n\u001b[0;32m--> 150\u001b[0;31m                 \u001b[0mout_features\u001b[0m \u001b[0;34m=\u001b[0m \u001b[0mself\u001b[0m\u001b[0;34m.\u001b[0m\u001b[0mforward\u001b[0m\u001b[0;34m(\u001b[0m\u001b[0mfeatures\u001b[0m\u001b[0;34m)\u001b[0m\u001b[0;34m\u001b[0m\u001b[0;34m\u001b[0m\u001b[0m\n\u001b[0m\u001b[1;32m    151\u001b[0m                 \u001b[0membeddings\u001b[0m \u001b[0;34m=\u001b[0m \u001b[0mout_features\u001b[0m\u001b[0;34m[\u001b[0m\u001b[0moutput_value\u001b[0m\u001b[0;34m]\u001b[0m\u001b[0;34m\u001b[0m\u001b[0;34m\u001b[0m\u001b[0m\n\u001b[1;32m    152\u001b[0m \u001b[0;34m\u001b[0m\u001b[0m\n",
            "\u001b[0;32m~/.local/lib/python3.8/site-packages/torch/nn/modules/container.py\u001b[0m in \u001b[0;36mforward\u001b[0;34m(self, input)\u001b[0m\n\u001b[1;32m     98\u001b[0m     \u001b[0;32mdef\u001b[0m \u001b[0mforward\u001b[0m\u001b[0;34m(\u001b[0m\u001b[0mself\u001b[0m\u001b[0;34m,\u001b[0m \u001b[0minput\u001b[0m\u001b[0;34m)\u001b[0m\u001b[0;34m:\u001b[0m\u001b[0;34m\u001b[0m\u001b[0;34m\u001b[0m\u001b[0m\n\u001b[1;32m     99\u001b[0m         \u001b[0;32mfor\u001b[0m \u001b[0mmodule\u001b[0m \u001b[0;32min\u001b[0m \u001b[0mself\u001b[0m\u001b[0;34m:\u001b[0m\u001b[0;34m\u001b[0m\u001b[0;34m\u001b[0m\u001b[0m\n\u001b[0;32m--> 100\u001b[0;31m             \u001b[0minput\u001b[0m \u001b[0;34m=\u001b[0m \u001b[0mmodule\u001b[0m\u001b[0;34m(\u001b[0m\u001b[0minput\u001b[0m\u001b[0;34m)\u001b[0m\u001b[0;34m\u001b[0m\u001b[0;34m\u001b[0m\u001b[0m\n\u001b[0m\u001b[1;32m    101\u001b[0m         \u001b[0;32mreturn\u001b[0m \u001b[0minput\u001b[0m\u001b[0;34m\u001b[0m\u001b[0;34m\u001b[0m\u001b[0m\n\u001b[1;32m    102\u001b[0m \u001b[0;34m\u001b[0m\u001b[0m\n",
            "\u001b[0;32m~/.local/lib/python3.8/site-packages/torch/nn/modules/module.py\u001b[0m in \u001b[0;36m__call__\u001b[0;34m(self, *input, **kwargs)\u001b[0m\n\u001b[1;32m    548\u001b[0m             \u001b[0mresult\u001b[0m \u001b[0;34m=\u001b[0m \u001b[0mself\u001b[0m\u001b[0;34m.\u001b[0m\u001b[0m_slow_forward\u001b[0m\u001b[0;34m(\u001b[0m\u001b[0;34m*\u001b[0m\u001b[0minput\u001b[0m\u001b[0;34m,\u001b[0m \u001b[0;34m**\u001b[0m\u001b[0mkwargs\u001b[0m\u001b[0;34m)\u001b[0m\u001b[0;34m\u001b[0m\u001b[0;34m\u001b[0m\u001b[0m\n\u001b[1;32m    549\u001b[0m         \u001b[0;32melse\u001b[0m\u001b[0;34m:\u001b[0m\u001b[0;34m\u001b[0m\u001b[0;34m\u001b[0m\u001b[0m\n\u001b[0;32m--> 550\u001b[0;31m             \u001b[0mresult\u001b[0m \u001b[0;34m=\u001b[0m \u001b[0mself\u001b[0m\u001b[0;34m.\u001b[0m\u001b[0mforward\u001b[0m\u001b[0;34m(\u001b[0m\u001b[0;34m*\u001b[0m\u001b[0minput\u001b[0m\u001b[0;34m,\u001b[0m \u001b[0;34m**\u001b[0m\u001b[0mkwargs\u001b[0m\u001b[0;34m)\u001b[0m\u001b[0;34m\u001b[0m\u001b[0;34m\u001b[0m\u001b[0m\n\u001b[0m\u001b[1;32m    551\u001b[0m         \u001b[0;32mfor\u001b[0m \u001b[0mhook\u001b[0m \u001b[0;32min\u001b[0m \u001b[0mself\u001b[0m\u001b[0;34m.\u001b[0m\u001b[0m_forward_hooks\u001b[0m\u001b[0;34m.\u001b[0m\u001b[0mvalues\u001b[0m\u001b[0;34m(\u001b[0m\u001b[0;34m)\u001b[0m\u001b[0;34m:\u001b[0m\u001b[0;34m\u001b[0m\u001b[0;34m\u001b[0m\u001b[0m\n\u001b[1;32m    552\u001b[0m             \u001b[0mhook_result\u001b[0m \u001b[0;34m=\u001b[0m \u001b[0mhook\u001b[0m\u001b[0;34m(\u001b[0m\u001b[0mself\u001b[0m\u001b[0;34m,\u001b[0m \u001b[0minput\u001b[0m\u001b[0;34m,\u001b[0m \u001b[0mresult\u001b[0m\u001b[0;34m)\u001b[0m\u001b[0;34m\u001b[0m\u001b[0;34m\u001b[0m\u001b[0m\n",
            "\u001b[0;32m~/.local/lib/python3.8/site-packages/sentence_transformers/models/Transformer.py\u001b[0m in \u001b[0;36mforward\u001b[0;34m(self, features)\u001b[0m\n\u001b[1;32m     23\u001b[0m     \u001b[0;32mdef\u001b[0m \u001b[0mforward\u001b[0m\u001b[0;34m(\u001b[0m\u001b[0mself\u001b[0m\u001b[0;34m,\u001b[0m \u001b[0mfeatures\u001b[0m\u001b[0;34m)\u001b[0m\u001b[0;34m:\u001b[0m\u001b[0;34m\u001b[0m\u001b[0;34m\u001b[0m\u001b[0m\n\u001b[1;32m     24\u001b[0m         \u001b[0;34m\"\"\"Returns token_embeddings, cls_token\"\"\"\u001b[0m\u001b[0;34m\u001b[0m\u001b[0;34m\u001b[0m\u001b[0m\n\u001b[0;32m---> 25\u001b[0;31m         \u001b[0moutput_states\u001b[0m \u001b[0;34m=\u001b[0m \u001b[0mself\u001b[0m\u001b[0;34m.\u001b[0m\u001b[0mauto_model\u001b[0m\u001b[0;34m(\u001b[0m\u001b[0;34m**\u001b[0m\u001b[0mfeatures\u001b[0m\u001b[0;34m)\u001b[0m\u001b[0;34m\u001b[0m\u001b[0;34m\u001b[0m\u001b[0m\n\u001b[0m\u001b[1;32m     26\u001b[0m         \u001b[0moutput_tokens\u001b[0m \u001b[0;34m=\u001b[0m \u001b[0moutput_states\u001b[0m\u001b[0;34m[\u001b[0m\u001b[0;36m0\u001b[0m\u001b[0;34m]\u001b[0m\u001b[0;34m\u001b[0m\u001b[0;34m\u001b[0m\u001b[0m\n\u001b[1;32m     27\u001b[0m \u001b[0;34m\u001b[0m\u001b[0m\n",
            "\u001b[0;32m~/.local/lib/python3.8/site-packages/torch/nn/modules/module.py\u001b[0m in \u001b[0;36m__call__\u001b[0;34m(self, *input, **kwargs)\u001b[0m\n\u001b[1;32m    548\u001b[0m             \u001b[0mresult\u001b[0m \u001b[0;34m=\u001b[0m \u001b[0mself\u001b[0m\u001b[0;34m.\u001b[0m\u001b[0m_slow_forward\u001b[0m\u001b[0;34m(\u001b[0m\u001b[0;34m*\u001b[0m\u001b[0minput\u001b[0m\u001b[0;34m,\u001b[0m \u001b[0;34m**\u001b[0m\u001b[0mkwargs\u001b[0m\u001b[0;34m)\u001b[0m\u001b[0;34m\u001b[0m\u001b[0;34m\u001b[0m\u001b[0m\n\u001b[1;32m    549\u001b[0m         \u001b[0;32melse\u001b[0m\u001b[0;34m:\u001b[0m\u001b[0;34m\u001b[0m\u001b[0;34m\u001b[0m\u001b[0m\n\u001b[0;32m--> 550\u001b[0;31m             \u001b[0mresult\u001b[0m \u001b[0;34m=\u001b[0m \u001b[0mself\u001b[0m\u001b[0;34m.\u001b[0m\u001b[0mforward\u001b[0m\u001b[0;34m(\u001b[0m\u001b[0;34m*\u001b[0m\u001b[0minput\u001b[0m\u001b[0;34m,\u001b[0m \u001b[0;34m**\u001b[0m\u001b[0mkwargs\u001b[0m\u001b[0;34m)\u001b[0m\u001b[0;34m\u001b[0m\u001b[0;34m\u001b[0m\u001b[0m\n\u001b[0m\u001b[1;32m    551\u001b[0m         \u001b[0;32mfor\u001b[0m \u001b[0mhook\u001b[0m \u001b[0;32min\u001b[0m \u001b[0mself\u001b[0m\u001b[0;34m.\u001b[0m\u001b[0m_forward_hooks\u001b[0m\u001b[0;34m.\u001b[0m\u001b[0mvalues\u001b[0m\u001b[0;34m(\u001b[0m\u001b[0;34m)\u001b[0m\u001b[0;34m:\u001b[0m\u001b[0;34m\u001b[0m\u001b[0;34m\u001b[0m\u001b[0m\n\u001b[1;32m    552\u001b[0m             \u001b[0mhook_result\u001b[0m \u001b[0;34m=\u001b[0m \u001b[0mhook\u001b[0m\u001b[0;34m(\u001b[0m\u001b[0mself\u001b[0m\u001b[0;34m,\u001b[0m \u001b[0minput\u001b[0m\u001b[0;34m,\u001b[0m \u001b[0mresult\u001b[0m\u001b[0;34m)\u001b[0m\u001b[0;34m\u001b[0m\u001b[0;34m\u001b[0m\u001b[0m\n",
            "\u001b[0;32m~/.local/lib/python3.8/site-packages/transformers/modeling_bert.py\u001b[0m in \u001b[0;36mforward\u001b[0;34m(self, input_ids, attention_mask, token_type_ids, position_ids, head_mask, inputs_embeds, encoder_hidden_states, encoder_attention_mask)\u001b[0m\n\u001b[1;32m    704\u001b[0m         \u001b[0;31m# We can provide a self-attention mask of dimensions [batch_size, from_seq_length, to_seq_length]\u001b[0m\u001b[0;34m\u001b[0m\u001b[0;34m\u001b[0m\u001b[0;34m\u001b[0m\u001b[0m\n\u001b[1;32m    705\u001b[0m         \u001b[0;31m# ourselves in which case we just need to make it broadcastable to all heads.\u001b[0m\u001b[0;34m\u001b[0m\u001b[0;34m\u001b[0m\u001b[0;34m\u001b[0m\u001b[0m\n\u001b[0;32m--> 706\u001b[0;31m         \u001b[0mextended_attention_mask\u001b[0m\u001b[0;34m:\u001b[0m \u001b[0mtorch\u001b[0m\u001b[0;34m.\u001b[0m\u001b[0mTensor\u001b[0m \u001b[0;34m=\u001b[0m \u001b[0mself\u001b[0m\u001b[0;34m.\u001b[0m\u001b[0mget_extended_attention_mask\u001b[0m\u001b[0;34m(\u001b[0m\u001b[0mattention_mask\u001b[0m\u001b[0;34m,\u001b[0m \u001b[0minput_shape\u001b[0m\u001b[0;34m,\u001b[0m \u001b[0mdevice\u001b[0m\u001b[0;34m)\u001b[0m\u001b[0;34m\u001b[0m\u001b[0;34m\u001b[0m\u001b[0m\n\u001b[0m\u001b[1;32m    707\u001b[0m \u001b[0;34m\u001b[0m\u001b[0m\n\u001b[1;32m    708\u001b[0m         \u001b[0;31m# If a 2D ou 3D attention mask is provided for the cross-attention\u001b[0m\u001b[0;34m\u001b[0m\u001b[0;34m\u001b[0m\u001b[0;34m\u001b[0m\u001b[0m\n",
            "\u001b[0;32m~/.local/lib/python3.8/site-packages/transformers/modeling_utils.py\u001b[0m in \u001b[0;36mget_extended_attention_mask\u001b[0;34m(self, attention_mask, input_shape, device)\u001b[0m\n\u001b[1;32m    211\u001b[0m         \u001b[0;31m# Since we are adding it to the raw scores before the softmax, this is\u001b[0m\u001b[0;34m\u001b[0m\u001b[0;34m\u001b[0m\u001b[0;34m\u001b[0m\u001b[0m\n\u001b[1;32m    212\u001b[0m         \u001b[0;31m# effectively the same as removing these entirely.\u001b[0m\u001b[0;34m\u001b[0m\u001b[0;34m\u001b[0m\u001b[0;34m\u001b[0m\u001b[0m\n\u001b[0;32m--> 213\u001b[0;31m         \u001b[0mextended_attention_mask\u001b[0m \u001b[0;34m=\u001b[0m \u001b[0mextended_attention_mask\u001b[0m\u001b[0;34m.\u001b[0m\u001b[0mto\u001b[0m\u001b[0;34m(\u001b[0m\u001b[0mdtype\u001b[0m\u001b[0;34m=\u001b[0m\u001b[0mself\u001b[0m\u001b[0;34m.\u001b[0m\u001b[0mdtype\u001b[0m\u001b[0;34m)\u001b[0m  \u001b[0;31m# fp16 compatibility\u001b[0m\u001b[0;34m\u001b[0m\u001b[0;34m\u001b[0m\u001b[0m\n\u001b[0m\u001b[1;32m    214\u001b[0m         \u001b[0mextended_attention_mask\u001b[0m \u001b[0;34m=\u001b[0m \u001b[0;34m(\u001b[0m\u001b[0;36m1.0\u001b[0m \u001b[0;34m-\u001b[0m \u001b[0mextended_attention_mask\u001b[0m\u001b[0;34m)\u001b[0m \u001b[0;34m*\u001b[0m \u001b[0;34m-\u001b[0m\u001b[0;36m10000.0\u001b[0m\u001b[0;34m\u001b[0m\u001b[0;34m\u001b[0m\u001b[0m\n\u001b[1;32m    215\u001b[0m         \u001b[0;32mreturn\u001b[0m \u001b[0mextended_attention_mask\u001b[0m\u001b[0;34m\u001b[0m\u001b[0;34m\u001b[0m\u001b[0m\n",
            "\u001b[0;31mRuntimeError\u001b[0m: CUDA error: no kernel image is available for execution on the device"
          ]
        }
      ]
    },
    {
      "cell_type": "code",
      "metadata": {
        "id": "2xenPWaVubdm",
        "colab_type": "code",
        "colab": {}
      },
      "source": [
        "titles_embeddings = model.encode(df_covid.title.tolist(), show_progress_bar=True, batch_size=32)\n",
        "titles_embeddings = np.array(titles_embeddings)\n",
        "np.save(os.path.join(EXPORT_PATH, 'embeddings_titles.npy'), titles_embeddings)"
      ],
      "execution_count": null,
      "outputs": []
    },
    {
      "cell_type": "code",
      "metadata": {
        "id": "KM5MyYrfubdr",
        "colab_type": "code",
        "colab": {}
      },
      "source": [
        "embeddings = np.load(os.path.join(EXPORT_PATH,'embeddings_excerpts.npy'))"
      ],
      "execution_count": null,
      "outputs": []
    },
    {
      "cell_type": "code",
      "metadata": {
        "id": "dPVoSTqAubdv",
        "colab_type": "code",
        "colab": {},
        "outputId": "137eec92-b2de-4b10-b896-095b1eda86fc"
      },
      "source": [
        "embeddings.shape"
      ],
      "execution_count": null,
      "outputs": [
        {
          "output_type": "execute_result",
          "data": {
            "text/plain": [
              "(52709, 768)"
            ]
          },
          "metadata": {
            "tags": []
          },
          "execution_count": 46
        }
      ]
    },
    {
      "cell_type": "markdown",
      "metadata": {
        "id": "bl4oGSipubdy",
        "colab_type": "text"
      },
      "source": [
        "## Applying PCA to reduce dimensions from 768 to 250"
      ]
    },
    {
      "cell_type": "code",
      "metadata": {
        "collapsed": true,
        "id": "Zp43DnIBubdz",
        "colab_type": "code",
        "colab": {},
        "outputId": "a0ce8a94-f6fd-4bd5-9161-3ac14f559eb7"
      },
      "source": [
        "pca = PCA(n_components=250)\n",
        "embeddings_reduced_pca = pca.fit_transform(embeddings)\n",
        "print(f'cumulated variance : {pca.explained_variance_ratio_.sum()}')"
      ],
      "execution_count": null,
      "outputs": [
        {
          "output_type": "stream",
          "text": [
            "cumulated variance : 0.8262177109718323\n"
          ],
          "name": "stdout"
        }
      ]
    },
    {
      "cell_type": "markdown",
      "metadata": {
        "id": "GRIXHj8oubd2",
        "colab_type": "text"
      },
      "source": [
        "## Converting PCA to tSNE representation"
      ]
    },
    {
      "cell_type": "code",
      "metadata": {
        "collapsed": true,
        "id": "WJLsKpPGubd3",
        "colab_type": "code",
        "colab": {},
        "outputId": "fcd510e3-144b-490b-b2db-a15f2cc8fd8d"
      },
      "source": [
        "from tsnecuda import TSNE\n",
        "import matplotlib.cm as cm\n",
        "#from sklearn.manifold import TSNE\n",
        "\n",
        "tsne = TSNE(n_components=2, verbose=1, perplexity=150, n_iter=1000)"
      ],
      "execution_count": null,
      "outputs": [
        {
          "output_type": "execute_result",
          "data": {
            "text/plain": [
              "'\\nimport matplotlib.cm as cm\\nfrom sklearn.manifold import TSNE\\n\\ntsne = TSNE(n_components=2, verbose=1, perplexity=50, n_iter=500)\\n'"
            ]
          },
          "metadata": {
            "tags": []
          },
          "execution_count": 48
        }
      ]
    },
    {
      "cell_type": "code",
      "metadata": {
        "id": "kY69NgC4ubd8",
        "colab_type": "code",
        "colab": {}
      },
      "source": [
        "embeddings_reduced_tsne = tsne.fit_transform(embeddings_reduced_pca)"
      ],
      "execution_count": null,
      "outputs": []
    },
    {
      "cell_type": "code",
      "metadata": {
        "id": "Qdthw5xnubd_",
        "colab_type": "code",
        "colab": {}
      },
      "source": [
        "%%script false --no-raise-error\n",
        "\n",
        "df_tsne_coordinates = pd.DataFrame(embeddings_reduced_tsne, columns=['x1', 'x2'])\n",
        "df_tsne_coordinates.to_csv(os.path.join(EXPORT_PATH, 'tsne_coordinates.csv'), index=False)\n",
        "embeddings_reduced_tsne = pd.read_csv(os.path.join(EXPORT_PATH, 'tsne_coordinates.csv'))\n",
        "np.save(os.path.join(EXPORT_PATH, 'tsne_coordinates.npy'), embeddings_reduced_tsne)"
      ],
      "execution_count": null,
      "outputs": []
    },
    {
      "cell_type": "code",
      "metadata": {
        "id": "lgI_wawrubeE",
        "colab_type": "code",
        "colab": {}
      },
      "source": [
        "embeddings_reduced_tsne = np.load(os.path.join(EXPORT_PATH,'tsne_coordinates.npy'))"
      ],
      "execution_count": null,
      "outputs": []
    },
    {
      "cell_type": "code",
      "metadata": {
        "id": "0mIplKNfubeH",
        "colab_type": "code",
        "colab": {}
      },
      "source": [
        "n_clusters = 8\n",
        "kmeans = MiniBatchKMeans(n_clusters=n_clusters, batch_size=1000)\n",
        "predicted_labels = kmeans.fit_predict(embeddings_reduced_pca)"
      ],
      "execution_count": null,
      "outputs": []
    },
    {
      "cell_type": "code",
      "metadata": {
        "id": "BsrpDd18ubeK",
        "colab_type": "code",
        "colab": {}
      },
      "source": [
        "silhouette = silhouette_score(embeddings_reduced_pca, predicted_labels, n_jobs=10)\n",
        "sample_silhouette_values = silhouette_samples(embeddings_reduced_pca, predicted_labels, n_jobs=10)"
      ],
      "execution_count": null,
      "outputs": []
    },
    {
      "cell_type": "code",
      "metadata": {
        "id": "IWa4jI4pubeO",
        "colab_type": "code",
        "colab": {},
        "outputId": "7cee2dd2-7b9e-4039-e817-d19b8f5bb781"
      },
      "source": [
        "import matplotlib.pyplot as plt\n",
        "import matplotlib.cm as cm\n",
        "\n",
        "fig, (ax1, ax2) = plt.subplots(1, 2)\n",
        "fig.set_size_inches(18, 7)\n",
        "ax1.set_xlim([-0.1, 1])\n",
        "# The (n_clusters+1)*10 is for inserting blank space between silhouette plots of individual clusters, to demarcate them clearly.\n",
        "ax1.set_ylim([0, len(embeddings) + (n_clusters + 1) * 10])\n",
        "\n",
        "y_lower = 10\n",
        "for i in range(n_clusters):\n",
        "    # Aggregate the silhouette scores for samples belonging to cluster i, and sort them\n",
        "    ith_cluster_silhouette_values = sample_silhouette_values[predicted_labels == i]\n",
        "\n",
        "    ith_cluster_silhouette_values.sort()\n",
        "\n",
        "    size_cluster_i = ith_cluster_silhouette_values.shape[0]\n",
        "    y_upper = y_lower + size_cluster_i\n",
        "\n",
        "    color = cm.nipy_spectral(float(i) / n_clusters)\n",
        "    ax1.fill_betweenx(np.arange(y_lower, y_upper),\n",
        "                      0, ith_cluster_silhouette_values,\n",
        "                      facecolor=color, edgecolor=color, alpha=0.7)\n",
        "\n",
        "    # Label the silhouette plots with their cluster numbers at the middle\n",
        "    ax1.text(-0.05, y_lower + 0.5 * size_cluster_i, str(i))\n",
        "\n",
        "    # Compute the new y_lower for next plot\n",
        "    y_lower = y_upper + 10  # 10 for the 0 samples\n",
        "\n",
        "ax1.set_title(\"The silhouette plot for the various clusters.\")\n",
        "ax1.set_xlabel(\"The silhouette coefficient values\")\n",
        "ax1.set_ylabel(\"Cluster label\")\n",
        "\n",
        "# The vertical line for average silhouette score of all the values\n",
        "ax1.axvline(x=silhouette, color=\"red\", linestyle=\"--\");\n",
        "\n",
        "ax1.set_yticks([])  # Clear the yaxis labels / ticks\n",
        "ax1.set_xticks([-0.1, 0, 0.2, 0.4, 0.6, 0.8, 1])\n",
        "\n",
        "colors = cm.nipy_spectral(predicted_labels.astype(float) / n_clusters)\n",
        "ax2.scatter(embeddings_reduced_tsne[:, 0], embeddings_reduced_tsne[:, 1], \n",
        "            marker='.', \n",
        "            s=30, \n",
        "            lw=0, \n",
        "            alpha=0.7,\n",
        "            c=colors, \n",
        "            edgecolor='k')\n",
        "\n",
        "ax2.set_title(\"tSNE representation of the data\");"
      ],
      "execution_count": null,
      "outputs": [
        {
          "output_type": "execute_result",
          "data": {
            "text/plain": [
              "Text(0.5, 1.0, 'tSNE representation of the data')"
            ]
          },
          "metadata": {
            "tags": []
          },
          "execution_count": 53
        },
        {
          "output_type": "display_data",
          "data": {
            "image/png": "[encoded data removed]",
            "text/plain": [
              "<Figure size 1296x504 with 2 Axes>"
            ]
          },
          "metadata": {
            "tags": [],
            "needs_background": "light"
          }
        }
      ]
    },
    {
      "cell_type": "markdown",
      "metadata": {
        "id": "lWucjOfNubeV",
        "colab_type": "text"
      },
      "source": [
        "## Define Stopwords, Cleaner and Tokenizer"
      ]
    },
    {
      "cell_type": "code",
      "metadata": {
        "id": "H9a6M-d_ubeW",
        "colab_type": "code",
        "colab": {}
      },
      "source": [
        "class LemmaTokenizer:\n",
        "    def __init__(self):\n",
        "        self.wnl = WordNetLemmatizer()\n",
        "    def __call__(self, doc):\n",
        "        return [self.wnl.lemmatize(t) for t in doc.split()]\n",
        "lemma_tokenizer = LemmaTokenizer()    "
      ],
      "execution_count": null,
      "outputs": []
    },
    {
      "cell_type": "code",
      "metadata": {
        "id": "mnZxnoESubea",
        "colab_type": "code",
        "colab": {}
      },
      "source": [
        "response = requests.get(\"https://raw.githubusercontent.com/stopwords-iso/stopwords-en/master/stopwords-en.txt\")\n",
        "STOPWORDS = response.text.split('\\n')\n",
        "\n",
        "response_fr = requests.get(\"https://raw.githubusercontent.com/stopwords-iso/stopwords-fr/master/stopwords-fr.txt\")\n",
        "STOPWORDS_FR = response_fr.text.split('\\n')\n",
        "STOPWORDS += STOPWORDS_FR\n",
        "\n",
        "STOPWORDS += [\"et\", \"al\", \"fig\", \"figure\", \"can\", \"may\", \"also\", \"doi\", \"biorxiv\", \"preprint\",\n",
        "              \"copyright\", \"peer-reviewed\", \"authorfunder\", \"table\", \"license\", \"à\", \"chapter\",\n",
        "             \"abstract\", \"issue\", \"acute\", \"study\", \"approach\", \"inde\", \"index\", \"author\", \"unknown\"]\n",
        "\n",
        "STOPWORDS += ['ain', 'daren', 'hadn', 'herse', 'himse', 'itse', 'mayn', 'mightn', 'mon', 'mustn', \n",
        "              'myse', 'needn', 'oughtn', 'peer', 'reviewed', 'shan']\n",
        "\n",
        "STOPWORDS += [\"'d\", \"'m\", \"'re\", \"'s\", \"'t\", '.', 'affect', 'change', 'doe', 'greeting', 'ha', \n",
        "              'i.e', 'key', 'le', \"n't\", 'regard', 'result', 'sha', 'ti', 'wa', 'wo', 'word', \n",
        "              '”', 'avon', 'diver', 'fuss', 'gen', 'quantum', 'serum', 'somme', 'sou']\n",
        "\n",
        "STOPWORDS += ['respiratory', 'virus', 'infectious', 'disease', 'influenza', 'syndrome', 'infection', \n",
        "              'coronavirus', 'covid', 'mers', 'sars', 'cov', 'viral']\n",
        "\n",
        "STOPWORDS += ['µ', 'µg', 'µl', 'µm', '¼', 'å', 'þ', 'β', 'β actin', 'β β', 'δ', 'ε', 'η', 'θ', \n",
        "              'κ', 'κb', 'λ', 'μ', 'μg', 'μl', 'μm', 'π', 'ρ', 'σ', 'φ', 'ω', 'α', 'γ', 'medrxiv']"
      ],
      "execution_count": null,
      "outputs": []
    },
    {
      "cell_type": "code",
      "metadata": {
        "id": "U6VIq6HGubef",
        "colab_type": "code",
        "colab": {}
      },
      "source": [
        "def preprocess(text):\n",
        "    text = text.lower()\n",
        "    text = re.sub(r\"http?://\\S+\", \"\", text)\n",
        "    text = re.sub(r\"\\s\\d+\\s\", \" \", text)\n",
        "    text = re.sub(r'[^\\w\\s]', ' ', text)\n",
        "    text = re.sub(r'\\d+', ' ', text)\n",
        "    return text"
      ],
      "execution_count": null,
      "outputs": []
    },
    {
      "cell_type": "code",
      "metadata": {
        "collapsed": true,
        "id": "t60GCPedubej",
        "colab_type": "code",
        "colab": {},
        "outputId": "9e3f2b0b-c5fd-4f53-f7ab-ee2dcca6b4eb"
      },
      "source": [
        "metadata = pd.read_csv(os.path.join(EXPORT_PATH, 'metadata.csv'))\n",
        "texts = metadata[['excerpt', 'body_text']].copy()\n",
        "texts['cluster'] = predicted_labels\n",
        "texts['excerpt'] = texts.excerpt.progress_map(preprocess)"
      ],
      "execution_count": null,
      "outputs": [
        {
          "output_type": "display_data",
          "data": {
            "application/vnd.jupyter.widget-view+json": {
              "model_id": "2ee5c12f94754496bbda1599d8f70718",
              "version_major": 2,
              "version_minor": 0
            },
            "text/plain": [
              "HBox(children=(FloatProgress(value=0.0, max=52709.0), HTML(value='')))"
            ]
          },
          "metadata": {
            "tags": []
          }
        },
        {
          "output_type": "stream",
          "text": [
            "\n"
          ],
          "name": "stdout"
        }
      ]
    },
    {
      "cell_type": "code",
      "metadata": {
        "id": "oTe0Bhxtubeo",
        "colab_type": "code",
        "colab": {}
      },
      "source": [
        "def get_keywords(model, feature_names, n_top_words):\n",
        "    keywords = []\n",
        "    for topic_idx, topic in enumerate(model.components_):\n",
        "        keywords += [feature_names[i] for i in topic.argsort()[:-n_top_words - 1:-1]]\n",
        "    \n",
        "    keywords = list(set(keywords))\n",
        "    return keywords"
      ],
      "execution_count": null,
      "outputs": []
    },
    {
      "cell_type": "code",
      "metadata": {
        "collapsed": true,
        "id": "UImnUTREubes",
        "colab_type": "code",
        "colab": {},
        "outputId": "32d15077-c3b6-4bdd-81a1-f7324b13bc15"
      },
      "source": [
        "import nltk\n",
        "nltk.download('wordnet')\n",
        "full_vectorizer = TfidfVectorizer(max_df=0.9, \n",
        "                                 min_df=0.01,\n",
        "                                 stop_words=STOPWORDS, \n",
        "                                 ngram_range=(1, 2), \n",
        "                                 tokenizer=lemma_tokenizer)\n",
        "full_vectorizer.fit(tqdm_notebook(texts['excerpt'].tolist(), leave=False))\n",
        "feature_names = full_vectorizer.get_feature_names()"
      ],
      "execution_count": null,
      "outputs": [
        {
          "output_type": "stream",
          "text": [
            "[nltk_data] Downloading package wordnet to\n",
            "[nltk_data]     /home/arghyadeep99/nltk_data...\n",
            "[nltk_data]   Unzipping corpora/wordnet.zip.\n"
          ],
          "name": "stderr"
        },
        {
          "output_type": "display_data",
          "data": {
            "application/vnd.jupyter.widget-view+json": {
              "model_id": "",
              "version_major": 2,
              "version_minor": 0
            },
            "text/plain": [
              "HBox(children=(FloatProgress(value=0.0, max=52709.0), HTML(value='')))"
            ]
          },
          "metadata": {
            "tags": []
          }
        },
        {
          "output_type": "stream",
          "text": [
            "/home/arghyadeep99/.local/lib/python3.8/site-packages/sklearn/feature_extraction/text.py:484: UserWarning: The parameter 'token_pattern' will not be used since 'tokenizer' is not None'\n",
            "  warnings.warn(\"The parameter 'token_pattern' will not be used\"\n",
            "/home/arghyadeep99/.local/lib/python3.8/site-packages/sklearn/feature_extraction/text.py:383: UserWarning: Your stop_words may be inconsistent with your preprocessing. Tokenizing the stop words generated tokens ['actin'] not in stop_words.\n",
            "  warnings.warn('Your stop_words may be inconsistent with '\n"
          ],
          "name": "stderr"
        }
      ]
    },
    {
      "cell_type": "markdown",
      "metadata": {
        "id": "dcGyGRvrubew",
        "colab_type": "text"
      },
      "source": [
        "## Obtain Cluster Information and Keywords using Latent Dirichlet Allocation"
      ]
    },
    {
      "cell_type": "code",
      "metadata": {
        "id": "4_lP0voaubex",
        "colab_type": "code",
        "colab": {},
        "outputId": "811769b0-09e3-4088-e860-cb76dbd1a3fc"
      },
      "source": [
        "cluster_info = {}\n",
        "\n",
        "\n",
        "for k in tqdm_notebook(range(n_clusters)):\n",
        "\n",
        "    topn = 20\n",
        "    cluster_info[k] = {}\n",
        "    \n",
        "    train = texts[texts['cluster'] != k]['excerpt'].tolist()\n",
        "    docs = texts[texts['cluster'] == k]['excerpt'].tolist()\n",
        "    \n",
        "    # generate tfidf vectors per clusters\n",
        "    \n",
        "    docs_vectors = full_vectorizer.transform(tqdm_notebook(docs, leave=False))\n",
        "    \n",
        "    # fit an lda on these vectors\n",
        "    N_topics = 2\n",
        "    \n",
        "    lda = LatentDirichletAllocation(n_components=N_topics, \n",
        "                                    max_iter=20,\n",
        "                                    learning_method='online',\n",
        "                                    learning_offset=50.,\n",
        "                                    random_state=0)\n",
        "\n",
        "    lda.fit(docs_vectors)\n",
        "    \n",
        "    # extract the top keywords of each topic\n",
        "    \n",
        "    keywords = get_keywords(lda, feature_names, int(20 / N_topics))\n",
        "    \n",
        "    \n",
        "    cluster_info[k]['keywords'] = keywords\n",
        "\n",
        "    print(f'cluster : {k}')    \n",
        "    print(f'keywords : {keywords}')\n",
        "    print(\"----\\n\")"
      ],
      "execution_count": null,
      "outputs": [
        {
          "output_type": "display_data",
          "data": {
            "application/vnd.jupyter.widget-view+json": {
              "model_id": "47dd1fc8b91a40338eb612174a2f4b4b",
              "version_major": 2,
              "version_minor": 0
            },
            "text/plain": [
              "HBox(children=(FloatProgress(value=0.0, max=8.0), HTML(value='')))"
            ]
          },
          "metadata": {
            "tags": []
          }
        },
        {
          "output_type": "display_data",
          "data": {
            "application/vnd.jupyter.widget-view+json": {
              "model_id": "",
              "version_major": 2,
              "version_minor": 0
            },
            "text/plain": [
              "HBox(children=(FloatProgress(value=0.0, max=7858.0), HTML(value='')))"
            ]
          },
          "metadata": {
            "tags": []
          }
        },
        {
          "output_type": "stream",
          "text": [
            "cluster : 0\n",
            "keywords : ['pneumonia', 'wuhan', 'health', 'mortality', 'clinical', 'severe', 'december', 'pandemic', 'outbreak', 'china', 'reported', 'symptom', 'patient', 'caused', 'middle east', 'middle', 'east', 'spread', 'child']\n",
            "----\n",
            "\n"
          ],
          "name": "stdout"
        },
        {
          "output_type": "display_data",
          "data": {
            "application/vnd.jupyter.widget-view+json": {
              "model_id": "",
              "version_major": 2,
              "version_minor": 0
            },
            "text/plain": [
              "HBox(children=(FloatProgress(value=0.0, max=6223.0), HTML(value='')))"
            ]
          },
          "metadata": {
            "tags": []
          }
        },
        {
          "output_type": "stream",
          "text": [
            "cluster : 1\n",
            "keywords : ['cell', 'induced', 'replication', 'immune response', 'gene', 'cellular', 'structure', 'immune', 'innate', 'binding', 'host', 'mouse', 'interferon', 'protein', 'membrane', 'receptor', 'expression', 'response', 'rna']\n",
            "----\n",
            "\n"
          ],
          "name": "stdout"
        },
        {
          "output_type": "display_data",
          "data": {
            "application/vnd.jupyter.widget-view+json": {
              "model_id": "",
              "version_major": 2,
              "version_minor": 0
            },
            "text/plain": [
              "HBox(children=(FloatProgress(value=0.0, max=10867.0), HTML(value='')))"
            ]
          },
          "metadata": {
            "tags": []
          }
        },
        {
          "output_type": "stream",
          "text": [
            "cluster : 2\n",
            "keywords : ['crisis', 'public', 'health', 'model', 'hospital', 'country', 'pandemic', 'china', 'outbreak', 'epidemic', 'data', 'medical', 'patient', 'social', 'emergency', 'healthcare', 'transmission', 'spread', 'care']\n",
            "----\n",
            "\n"
          ],
          "name": "stdout"
        },
        {
          "output_type": "display_data",
          "data": {
            "application/vnd.jupyter.widget-view+json": {
              "model_id": "",
              "version_major": 2,
              "version_minor": 0
            },
            "text/plain": [
              "HBox(children=(FloatProgress(value=0.0, max=9048.0), HTML(value='')))"
            ]
          },
          "metadata": {
            "tags": []
          }
        },
        {
          "output_type": "stream",
          "text": [
            "cluster : 3\n",
            "keywords : ['chronic', 'child', 'clinical', 'ct', 'cell', 'method', 'symptom', 'mortality', 'hospital', 'background', 'outcome', 'patient', 'diagnosis', 'lung', 'pulmonary', 'blood', 'care', 'risk']\n",
            "----\n",
            "\n"
          ],
          "name": "stdout"
        },
        {
          "output_type": "display_data",
          "data": {
            "application/vnd.jupyter.widget-view+json": {
              "model_id": "",
              "version_major": 2,
              "version_minor": 0
            },
            "text/plain": [
              "HBox(children=(FloatProgress(value=0.0, max=626.0), HTML(value='')))"
            ]
          },
          "metadata": {
            "tags": []
          }
        },
        {
          "output_type": "stream",
          "text": [
            "cluster : 4\n",
            "keywords : ['crisis', 'hepatitis', 'wuhan', 'hiv', 'situation', 'surveillance', 'ct', 'design', 'management', 'initial', 'china', 'ebola', 'patient', 'der', 'contact', 'liver', 'setting', 'die', 'april', 'corona']\n",
            "----\n",
            "\n"
          ],
          "name": "stdout"
        },
        {
          "output_type": "display_data",
          "data": {
            "application/vnd.jupyter.widget-view+json": {
              "model_id": "",
              "version_major": 2,
              "version_minor": 0
            },
            "text/plain": [
              "HBox(children=(FloatProgress(value=0.0, max=8575.0), HTML(value='')))"
            ]
          },
          "metadata": {
            "tags": []
          }
        },
        {
          "output_type": "stream",
          "text": [
            "cluster : 5\n",
            "keywords : ['development', 'global', 'paper', 'health', 'medicine', 'learning', 'model', 'process', 'time', 'method', 'technology', 'specie', 'animal', 'human', 'network', 'data', 'social', 'science', 'pathogen', 'based']\n",
            "----\n",
            "\n"
          ],
          "name": "stdout"
        },
        {
          "output_type": "display_data",
          "data": {
            "application/vnd.jupyter.widget-view+json": {
              "model_id": "",
              "version_major": 2,
              "version_minor": 0
            },
            "text/plain": [
              "HBox(children=(FloatProgress(value=0.0, max=6104.0), HTML(value='')))"
            ]
          },
          "metadata": {
            "tags": []
          }
        },
        {
          "output_type": "stream",
          "text": [
            "cluster : 6\n",
            "keywords : ['development', 'pcr', 'genome', 'diarrhea', 'method', 'host', 'specie', 'porcine', 'animal', 'antibody', 'human', 'assay', 'detection', 'sequence', 'specific', 'strain', 'rt', 'sample', 'coronaviruses', 'vaccine']\n",
            "----\n",
            "\n"
          ],
          "name": "stdout"
        },
        {
          "output_type": "display_data",
          "data": {
            "application/vnd.jupyter.widget-view+json": {
              "model_id": "",
              "version_major": 2,
              "version_minor": 0
            },
            "text/plain": [
              "HBox(children=(FloatProgress(value=0.0, max=3408.0), HTML(value='')))"
            ]
          },
          "metadata": {
            "tags": []
          }
        },
        {
          "output_type": "stream",
          "text": [
            "cluster : 7\n",
            "keywords : ['cell', 'acid', 'peptide', 'property', 'vitro', 'method', 'compound', 'plant', 'protein', 'agent', 'antibody', 'anti', 'antiviral', 'treatment', 'inhibitor', 'application', 'activity', 'based', 'drug', 'vaccine']\n",
            "----\n",
            "\n",
            "\n"
          ],
          "name": "stdout"
        }
      ]
    },
    {
      "cell_type": "code",
      "metadata": {
        "id": "CvPAAGuCube1",
        "colab_type": "code",
        "colab": {}
      },
      "source": [
        "clusters_definitions = {}\n",
        "for i in range(n_clusters):\n",
        "    clusters_definitions[f'cluster_{i}'] = ''"
      ],
      "execution_count": null,
      "outputs": []
    },
    {
      "cell_type": "code",
      "metadata": {
        "id": "kxcbxj7aube5",
        "colab_type": "code",
        "colab": {}
      },
      "source": [
        "clusters_definitions  =  {'0': 'Drug testing',\n",
        "                          '1': 'Covid outbreak',\n",
        "                          '2': 'Detection',\n",
        "                          '3': 'Treatments',\n",
        "                          '4': 'Genetic studies',\n",
        "                          '5': 'Transmission',\n",
        "                          '6': 'Crisis management',\n",
        "                          '7': 'Immunity studies'\n",
        "                         }\n",
        "\n",
        "for k in cluster_info:\n",
        "    cluster_info[k]['topic'] = clusters_definitions[str(k)]"
      ],
      "execution_count": null,
      "outputs": []
    },
    {
      "cell_type": "code",
      "metadata": {
        "id": "NFoL54zMube8",
        "colab_type": "code",
        "colab": {}
      },
      "source": [
        "joblib.dump(kmeans, os.path.join(EXPORT_PATH, 'kmeans.joblib'))"
      ],
      "execution_count": null,
      "outputs": []
    },
    {
      "cell_type": "code",
      "metadata": {
        "collapsed": true,
        "id": "hEh98ShnubfB",
        "colab_type": "code",
        "colab": {},
        "outputId": "c8849639-6fab-486b-f69d-85c034db32d2"
      },
      "source": [
        "texts['preproc_body_text'] = texts.body_text.progress_map(preprocess)"
      ],
      "execution_count": null,
      "outputs": [
        {
          "output_type": "display_data",
          "data": {
            "application/vnd.jupyter.widget-view+json": {
              "model_id": "1bc298e07fad487ca3442c01fc173b64",
              "version_major": 2,
              "version_minor": 0
            },
            "text/plain": [
              "HBox(children=(FloatProgress(value=0.0, max=52709.0), HTML(value='')))"
            ]
          },
          "metadata": {
            "tags": []
          }
        },
        {
          "output_type": "stream",
          "text": [
            "\n"
          ],
          "name": "stdout"
        }
      ]
    },
    {
      "cell_type": "markdown",
      "metadata": {
        "id": "bDvAS9k9ubfH",
        "colab_type": "text"
      },
      "source": [
        "## Define TF-IDF Vectorizer"
      ]
    },
    {
      "cell_type": "code",
      "metadata": {
        "id": "uZLANz9zubfI",
        "colab_type": "code",
        "colab": {}
      },
      "source": [
        "full_text_vectorizer = TfidfVectorizer(max_features=10000,\n",
        "                                       max_df=0.8, \n",
        "                                       min_df=0.05,\n",
        "                                       stop_words=STOPWORDS, \n",
        "                                       ngram_range=(1, 2), \n",
        "                                       tokenizer=lemma_tokenizer)"
      ],
      "execution_count": null,
      "outputs": []
    },
    {
      "cell_type": "code",
      "metadata": {
        "collapsed": true,
        "id": "J26cknqRubfN",
        "colab_type": "code",
        "colab": {},
        "outputId": "b72bc28c-bcef-47f9-f06d-00c4fb819834"
      },
      "source": [
        "vectors = full_text_vectorizer.fit_transform(tqdm_notebook(\n",
        "    texts['preproc_body_text'].map(lambda t: t[:40000]).tolist(), leave=False))"
      ],
      "execution_count": null,
      "outputs": [
        {
          "output_type": "display_data",
          "data": {
            "application/vnd.jupyter.widget-view+json": {
              "model_id": "",
              "version_major": 2,
              "version_minor": 0
            },
            "text/plain": [
              "HBox(children=(FloatProgress(value=0.0, max=52709.0), HTML(value='')))"
            ]
          },
          "metadata": {
            "tags": []
          }
        },
        {
          "output_type": "stream",
          "text": [
            "/home/arghyadeep99/.local/lib/python3.8/site-packages/sklearn/feature_extraction/text.py:383: UserWarning: Your stop_words may be inconsistent with your preprocessing. Tokenizing the stop words generated tokens ['actin'] not in stop_words.\n",
            "  warnings.warn('Your stop_words may be inconsistent with '\n"
          ],
          "name": "stderr"
        }
      ]
    },
    {
      "cell_type": "code",
      "metadata": {
        "id": "plMAjVYZubfS",
        "colab_type": "code",
        "colab": {}
      },
      "source": [
        "feature_name_all = full_text_vectorizer.get_feature_names()\n",
        "feature_name_all = np.array(feature_name_all)"
      ],
      "execution_count": null,
      "outputs": []
    },
    {
      "cell_type": "markdown",
      "metadata": {
        "id": "QtsOYzVnubfW",
        "colab_type": "text"
      },
      "source": [
        "## Extracting Keywords"
      ]
    },
    {
      "cell_type": "code",
      "metadata": {
        "collapsed": true,
        "id": "9pUgHNBRubfZ",
        "colab_type": "code",
        "colab": {},
        "outputId": "2fb34896-4f25-4c93-f5ab-1a89c323d8fe"
      },
      "source": [
        "keywords_list = []\n",
        "\n",
        "for i in tqdm_notebook(range(vectors.shape[0])):\n",
        "    row = vectors[i]\n",
        "    row = row.tocoo()\n",
        "\n",
        "    tuples = zip(row.col, row.data)\n",
        "    tuples = sorted(tuples, key=lambda x: (x[1], x[0]), reverse=True)\n",
        "    \n",
        "    indices = [c[0] for c in tuples[:10]]\n",
        "    keywords = feature_name_all[indices].tolist()\n",
        "    \n",
        "    keywords_list.append(keywords)"
      ],
      "execution_count": null,
      "outputs": [
        {
          "output_type": "display_data",
          "data": {
            "application/vnd.jupyter.widget-view+json": {
              "model_id": "a515130277c249c889e7bfd81e13a4d6",
              "version_major": 2,
              "version_minor": 0
            },
            "text/plain": [
              "HBox(children=(FloatProgress(value=0.0, max=52709.0), HTML(value='')))"
            ]
          },
          "metadata": {
            "tags": []
          }
        },
        {
          "output_type": "stream",
          "text": [
            "\n"
          ],
          "name": "stdout"
        }
      ]
    },
    {
      "cell_type": "code",
      "metadata": {
        "id": "IAQOB4a2ubfe",
        "colab_type": "code",
        "colab": {}
      },
      "source": [
        "df_keywords = pd.DataFrame(keywords_list)"
      ],
      "execution_count": null,
      "outputs": []
    },
    {
      "cell_type": "code",
      "metadata": {
        "id": "BdmkuoiXubfi",
        "colab_type": "code",
        "colab": {}
      },
      "source": [
        "df_keywords['paper_id'] = metadata.paper_id"
      ],
      "execution_count": null,
      "outputs": []
    },
    {
      "cell_type": "code",
      "metadata": {
        "id": "8lywYCJ6ubfl",
        "colab_type": "code",
        "colab": {}
      },
      "source": [
        "df_keywords = df_keywords[['paper_id'] + list(range(10))]"
      ],
      "execution_count": null,
      "outputs": []
    },
    {
      "cell_type": "code",
      "metadata": {
        "id": "urngBP7tubfp",
        "colab_type": "code",
        "colab": {}
      },
      "source": [
        "df_keywords.to_csv(os.path.join(EXPORT_PATH, 'keywords_per_doc.csv'), index=False)"
      ],
      "execution_count": null,
      "outputs": []
    },
    {
      "cell_type": "code",
      "metadata": {
        "id": "HvmrOVffubft",
        "colab_type": "code",
        "colab": {}
      },
      "source": [
        "cluster_data_front = pd.DataFrame()\n",
        "cluster_data_front['key'] = range(n_clusters)\n",
        "cluster_data_front['label'] = cluster_data_front['key'].map(str)\n",
        "cluster_data_front['topic'] = cluster_data_front.label.map(clusters_definitions)"
      ],
      "execution_count": null,
      "outputs": []
    },
    {
      "cell_type": "code",
      "metadata": {
        "id": "rorSeTMmubfw",
        "colab_type": "code",
        "colab": {},
        "outputId": "44144ac5-c5ac-44b1-8b6f-be2532c444cc"
      },
      "source": [
        "cluster_data_front.to_json(orient='records')"
      ],
      "execution_count": null,
      "outputs": [
        {
          "output_type": "execute_result",
          "data": {
            "text/plain": [
              "'[{\"key\":0,\"label\":\"0\",\"topic\":\"Drug testing\"},{\"key\":1,\"label\":\"1\",\"topic\":\"Covid outbreak\"},{\"key\":2,\"label\":\"2\",\"topic\":\"Detection\"},{\"key\":3,\"label\":\"3\",\"topic\":\"Treatments\"},{\"key\":4,\"label\":\"4\",\"topic\":\"Genetic studies\"},{\"key\":5,\"label\":\"5\",\"topic\":\"Transmission\"},{\"key\":6,\"label\":\"6\",\"topic\":\"Crisis management\"},{\"key\":7,\"label\":\"7\",\"topic\":\"Immunity studies\"}]'"
            ]
          },
          "metadata": {
            "tags": []
          },
          "execution_count": 74
        }
      ]
    },
    {
      "cell_type": "markdown",
      "metadata": {
        "id": "aP57wdhcubf0",
        "colab_type": "text"
      },
      "source": [
        "## Add cluster info, tSNE coordinates and keywords to metadata.csv"
      ]
    },
    {
      "cell_type": "code",
      "metadata": {
        "id": "l6yjmmjEubf0",
        "colab_type": "code",
        "colab": {}
      },
      "source": [
        "df_output = pd.DataFrame(embeddings_reduced_tsne, columns=['x1', 'x2'])\n",
        "df_output['cluster'] = predicted_labels\n",
        "df_output['paper_id'] = metadata.paper_id\n",
        "\n",
        "df_output = df_output[['paper_id', 'x1', 'x2', 'cluster']]"
      ],
      "execution_count": null,
      "outputs": []
    },
    {
      "cell_type": "code",
      "metadata": {
        "id": "7s-HwX07ubf5",
        "colab_type": "code",
        "colab": {}
      },
      "source": [
        "df_output.to_csv(os.path.join(EXPORT_PATH, 'clusters.csv'), index=False)"
      ],
      "execution_count": null,
      "outputs": []
    },
    {
      "cell_type": "code",
      "metadata": {
        "id": "UdnhN9Izubf7",
        "colab_type": "code",
        "colab": {}
      },
      "source": [
        "with open(os.path.join(EXPORT_PATH, 'clusters_info.json'), 'w') as f:\n",
        "    json.dump(cluster_info, f)"
      ],
      "execution_count": null,
      "outputs": []
    },
    {
      "cell_type": "code",
      "metadata": {
        "id": "bEHGy-zZubf9",
        "colab_type": "code",
        "colab": {}
      },
      "source": [
        "metadata.drop(['preproc_body_text'], inplace=True, axis=1)"
      ],
      "execution_count": null,
      "outputs": []
    },
    {
      "cell_type": "code",
      "metadata": {
        "id": "bSP89Uteubf_",
        "colab_type": "code",
        "colab": {},
        "outputId": "65f0606c-8dd2-413a-b24f-96e7a377faea"
      },
      "source": [
        "metadata.columns"
      ],
      "execution_count": null,
      "outputs": [
        {
          "output_type": "execute_result",
          "data": {
            "text/plain": [
              "Index(['paper_id', 'abstract', 'body_text', 'authors', 'title', 'journal',\n",
              "       'publish_time', 'doi', 'source_x', 'url', 'is_covid', 'score',\n",
              "       'readers_count', 'cited_by_posts_count', 'cited_by_tweeters_count',\n",
              "       'cited_by_fbwalls_count', 'cited_by_wikipedia_count', 'subjects',\n",
              "       'peer_reviewed', 'excerpt'],\n",
              "      dtype='object')"
            ]
          },
          "metadata": {
            "tags": []
          },
          "execution_count": 102
        }
      ]
    },
    {
      "cell_type": "code",
      "metadata": {
        "id": "nkf2NAc1ubgC",
        "colab_type": "code",
        "colab": {}
      },
      "source": [
        "metadata[\"x1\"] = cluster_coords[metadata[\"paper_id\"] == cluster_coords[\"paper_id\"]][\"x1\"]\n",
        "metadata[\"x2\"] = cluster_coords[metadata[\"paper_id\"] == cluster_coords[\"paper_id\"]][\"x2\"]\n",
        "metadata[\"cluster\"] = cluster_coords[metadata[\"paper_id\"] == cluster_coords[\"paper_id\"]][\"cluster\"]\n",
        "metadata[\"cluster_name\"] = metadata[\"cluster\"].astype(str).map(clusters_definitions)"
      ],
      "execution_count": null,
      "outputs": []
    },
    {
      "cell_type": "code",
      "metadata": {
        "id": "0wmJz95uubgE",
        "colab_type": "code",
        "colab": {}
      },
      "source": [
        "keyword_doc = pd.read_csv(os.path.join(EXPORT_PATH, \"keywords_per_doc.csv\"))"
      ],
      "execution_count": null,
      "outputs": []
    },
    {
      "cell_type": "code",
      "metadata": {
        "id": "UxUFGi_QubgI",
        "colab_type": "code",
        "colab": {},
        "outputId": "2a68939b-36f7-4807-f623-fdbd9f0f9734"
      },
      "source": [
        "keyword_doc.head()"
      ],
      "execution_count": null,
      "outputs": [
        {
          "output_type": "execute_result",
          "data": {
            "text/html": [
              "<div>\n",
              "<style scoped>\n",
              "    .dataframe tbody tr th:only-of-type {\n",
              "        vertical-align: middle;\n",
              "    }\n",
              "\n",
              "    .dataframe tbody tr th {\n",
              "        vertical-align: top;\n",
              "    }\n",
              "\n",
              "    .dataframe thead th {\n",
              "        text-align: right;\n",
              "    }\n",
              "</style>\n",
              "<table border=\"1\" class=\"dataframe\">\n",
              "  <thead>\n",
              "    <tr style=\"text-align: right;\">\n",
              "      <th></th>\n",
              "      <th>paper_id</th>\n",
              "      <th>0</th>\n",
              "      <th>1</th>\n",
              "      <th>2</th>\n",
              "      <th>3</th>\n",
              "      <th>4</th>\n",
              "      <th>5</th>\n",
              "      <th>6</th>\n",
              "      <th>7</th>\n",
              "      <th>8</th>\n",
              "      <th>9</th>\n",
              "    </tr>\n",
              "  </thead>\n",
              "  <tbody>\n",
              "    <tr>\n",
              "      <th>0</th>\n",
              "      <td>c9a627d5f63264b95acb95d2d3d9d46a52158b15</td>\n",
              "      <td>cardiac</td>\n",
              "      <td>patient</td>\n",
              "      <td>heart</td>\n",
              "      <td>nt</td>\n",
              "      <td>healthcare</td>\n",
              "      <td>service</td>\n",
              "      <td>plasma</td>\n",
              "      <td>risk</td>\n",
              "      <td>cardiovascular</td>\n",
              "      <td>italy</td>\n",
              "    </tr>\n",
              "    <tr>\n",
              "      <th>1</th>\n",
              "      <td>9044ecc75d28faa698b6405ad43874dbbf6b235d</td>\n",
              "      <td>sequence</td>\n",
              "      <td>italy</td>\n",
              "      <td>recombination</td>\n",
              "      <td>strain</td>\n",
              "      <td>genome</td>\n",
              "      <td>phylogenetic</td>\n",
              "      <td>tree</td>\n",
              "      <td>genotype</td>\n",
              "      <td>complete</td>\n",
              "      <td>primer</td>\n",
              "    </tr>\n",
              "    <tr>\n",
              "      <th>2</th>\n",
              "      <td>18e5ca6859a1131329eb3b2c61b66955d97aed20</td>\n",
              "      <td>beta</td>\n",
              "      <td>mouse</td>\n",
              "      <td>activation</td>\n",
              "      <td>lung</td>\n",
              "      <td>macrophage</td>\n",
              "      <td>induced</td>\n",
              "      <td>tuberculosis</td>\n",
              "      <td>secretion</td>\n",
              "      <td>release</td>\n",
              "      <td>response</td>\n",
              "    </tr>\n",
              "    <tr>\n",
              "      <th>3</th>\n",
              "      <td>bed493869199469ee87e5f50d139fef45f3fcf73</td>\n",
              "      <td>antimicrobial</td>\n",
              "      <td>mucosal</td>\n",
              "      <td>cell</td>\n",
              "      <td>immune</td>\n",
              "      <td>receptor</td>\n",
              "      <td>activity</td>\n",
              "      <td>expression</td>\n",
              "      <td>response</td>\n",
              "      <td>amino acid</td>\n",
              "      <td>amino</td>\n",
              "    </tr>\n",
              "    <tr>\n",
              "      <th>4</th>\n",
              "      <td>ba7d692c043b8a27633ad72046de6045cc36e536</td>\n",
              "      <td>liquid</td>\n",
              "      <td>particle</td>\n",
              "      <td>air</td>\n",
              "      <td>flow</td>\n",
              "      <td>aerosol</td>\n",
              "      <td>sampling</td>\n",
              "      <td>min</td>\n",
              "      <td>concentration</td>\n",
              "      <td>collection</td>\n",
              "      <td>real</td>\n",
              "    </tr>\n",
              "  </tbody>\n",
              "</table>\n",
              "</div>"
            ],
            "text/plain": [
              "                                   paper_id              0         1  \\\n",
              "0  c9a627d5f63264b95acb95d2d3d9d46a52158b15        cardiac   patient   \n",
              "1  9044ecc75d28faa698b6405ad43874dbbf6b235d       sequence     italy   \n",
              "2  18e5ca6859a1131329eb3b2c61b66955d97aed20           beta     mouse   \n",
              "3  bed493869199469ee87e5f50d139fef45f3fcf73  antimicrobial   mucosal   \n",
              "4  ba7d692c043b8a27633ad72046de6045cc36e536         liquid  particle   \n",
              "\n",
              "               2       3           4             5             6  \\\n",
              "0          heart      nt  healthcare       service        plasma   \n",
              "1  recombination  strain      genome  phylogenetic          tree   \n",
              "2     activation    lung  macrophage       induced  tuberculosis   \n",
              "3           cell  immune    receptor      activity    expression   \n",
              "4            air    flow     aerosol      sampling           min   \n",
              "\n",
              "               7               8         9  \n",
              "0           risk  cardiovascular     italy  \n",
              "1       genotype        complete    primer  \n",
              "2      secretion         release  response  \n",
              "3       response      amino acid     amino  \n",
              "4  concentration      collection      real  "
            ]
          },
          "metadata": {
            "tags": []
          },
          "execution_count": 14
        }
      ]
    },
    {
      "cell_type": "code",
      "metadata": {
        "id": "uflg891xubgK",
        "colab_type": "code",
        "colab": {},
        "outputId": "7ceabde2-8b96-44f4-b82f-9d6f579b26be"
      },
      "source": [
        "keyword_doc.columns[1:]"
      ],
      "execution_count": null,
      "outputs": [
        {
          "output_type": "execute_result",
          "data": {
            "text/plain": [
              "Index(['0', '1', '2', '3', '4', '5', '6', '7', '8', '9'], dtype='object')"
            ]
          },
          "metadata": {
            "tags": []
          },
          "execution_count": 15
        }
      ]
    },
    {
      "cell_type": "code",
      "metadata": {
        "id": "0fIrFUcGubgN",
        "colab_type": "code",
        "colab": {}
      },
      "source": [
        "keyword_doc[\"keywords\"] = keyword_doc[keyword_doc.columns[1:]].apply(lambda x: ' '.join(x.dropna().astype(str)),\n",
        "                                                                     axis=1)"
      ],
      "execution_count": null,
      "outputs": []
    },
    {
      "cell_type": "code",
      "metadata": {
        "id": "pLu6TlssubgQ",
        "colab_type": "code",
        "colab": {},
        "outputId": "49621ba0-e6fb-464a-c575-3780cb3d70d8"
      },
      "source": [
        "keyword_doc[\"keywords\"][0]"
      ],
      "execution_count": null,
      "outputs": [
        {
          "output_type": "execute_result",
          "data": {
            "text/plain": [
              "['cardiac',\n",
              " 'patient',\n",
              " 'heart',\n",
              " 'nt',\n",
              " 'healthcare',\n",
              " 'service',\n",
              " 'plasma',\n",
              " 'risk',\n",
              " 'cardiovascular',\n",
              " 'italy']"
            ]
          },
          "metadata": {
            "tags": []
          },
          "execution_count": 60
        }
      ]
    },
    {
      "cell_type": "code",
      "metadata": {
        "id": "Vz_Kl9j3ubgS",
        "colab_type": "code",
        "colab": {}
      },
      "source": [
        "keyword_doc.to_csv(os.path.join(EXPORT_PATH, 'keywords_per_doc.csv'), index=False)"
      ],
      "execution_count": null,
      "outputs": []
    },
    {
      "cell_type": "code",
      "metadata": {
        "id": "vpX_3rfgubgU",
        "colab_type": "code",
        "colab": {}
      },
      "source": [
        "metadata[\"keywords\"] = keyword_doc[\"keywords\"]"
      ],
      "execution_count": null,
      "outputs": []
    },
    {
      "cell_type": "code",
      "metadata": {
        "id": "YcEIdtVdubgW",
        "colab_type": "code",
        "colab": {},
        "outputId": "40d364cc-1064-4a69-f479-1d3467fad417"
      },
      "source": [
        "metadata[\"keywords\"].head()"
      ],
      "execution_count": null,
      "outputs": [
        {
          "output_type": "execute_result",
          "data": {
            "text/plain": [
              "0    cardiac patient heart nt healthcare service pl...\n",
              "1    sequence italy recombination strain genome phy...\n",
              "2    beta mouse activation lung macrophage induced ...\n",
              "3    antimicrobial mucosal cell immune receptor act...\n",
              "4    liquid particle air flow aerosol sampling min ...\n",
              "Name: keywords, dtype: object"
            ]
          },
          "metadata": {
            "tags": []
          },
          "execution_count": 28
        }
      ]
    },
    {
      "cell_type": "code",
      "metadata": {
        "id": "Ycbp-yp1ubgZ",
        "colab_type": "code",
        "colab": {}
      },
      "source": [
        "metadata.to_csv(os.path.join(EXPORT_PATH, 'metadata.csv'), index=False)"
      ],
      "execution_count": null,
      "outputs": []
    },
    {
      "cell_type": "code",
      "metadata": {
        "id": "WTamRM_Bubgc",
        "colab_type": "code",
        "colab": {},
        "outputId": "b7d56a9b-cedc-4a3b-f806-17c6d0cced9b"
      },
      "source": [
        "metadata = pd.read_csv(os.path.join(EXPORT_PATH, 'metadata.csv'))\n",
        "metadata.head()"
      ],
      "execution_count": null,
      "outputs": [
        {
          "output_type": "execute_result",
          "data": {
            "text/plain": [
              "\"['origin', 'sequence', 'gene', 'nucleotide', 'shared', 'recombination', 'population', 'class', 'identical', 'residue']\""
            ]
          },
          "metadata": {
            "tags": []
          },
          "execution_count": 59
        }
      ]
    },
    {
      "cell_type": "code",
      "metadata": {
        "id": "IHnQu-Pmubgf",
        "colab_type": "code",
        "colab": {},
        "outputId": "d9325066-9c77-4252-b38e-4e9a9982baaa"
      },
      "source": [
        "metadata.describe()"
      ],
      "execution_count": null,
      "outputs": [
        {
          "output_type": "execute_result",
          "data": {
            "text/html": [
              "<div>\n",
              "<style scoped>\n",
              "    .dataframe tbody tr th:only-of-type {\n",
              "        vertical-align: middle;\n",
              "    }\n",
              "\n",
              "    .dataframe tbody tr th {\n",
              "        vertical-align: top;\n",
              "    }\n",
              "\n",
              "    .dataframe thead th {\n",
              "        text-align: right;\n",
              "    }\n",
              "</style>\n",
              "<table border=\"1\" class=\"dataframe\">\n",
              "  <thead>\n",
              "    <tr style=\"text-align: right;\">\n",
              "      <th></th>\n",
              "      <th>score</th>\n",
              "      <th>readers_count</th>\n",
              "      <th>cited_by_posts_count</th>\n",
              "      <th>cited_by_tweeters_count</th>\n",
              "      <th>cited_by_fbwalls_count</th>\n",
              "      <th>cited_by_wikipedia_count</th>\n",
              "      <th>x1</th>\n",
              "      <th>x2</th>\n",
              "      <th>cluster</th>\n",
              "    </tr>\n",
              "  </thead>\n",
              "  <tbody>\n",
              "    <tr>\n",
              "      <th>count</th>\n",
              "      <td>32539.000000</td>\n",
              "      <td>32539.000000</td>\n",
              "      <td>32539.000000</td>\n",
              "      <td>30615.000000</td>\n",
              "      <td>5836.000000</td>\n",
              "      <td>1155.000000</td>\n",
              "      <td>52709.000000</td>\n",
              "      <td>52709.000000</td>\n",
              "      <td>52709.000000</td>\n",
              "    </tr>\n",
              "    <tr>\n",
              "      <th>mean</th>\n",
              "      <td>52.947950</td>\n",
              "      <td>24.885461</td>\n",
              "      <td>70.553520</td>\n",
              "      <td>59.115270</td>\n",
              "      <td>2.419123</td>\n",
              "      <td>1.406926</td>\n",
              "      <td>-0.008952</td>\n",
              "      <td>-0.051137</td>\n",
              "      <td>3.053748</td>\n",
              "    </tr>\n",
              "    <tr>\n",
              "      <th>std</th>\n",
              "      <td>400.755279</td>\n",
              "      <td>69.129338</td>\n",
              "      <td>669.659965</td>\n",
              "      <td>535.398548</td>\n",
              "      <td>11.040603</td>\n",
              "      <td>1.159224</td>\n",
              "      <td>8.998177</td>\n",
              "      <td>8.575326</td>\n",
              "      <td>2.180997</td>\n",
              "    </tr>\n",
              "    <tr>\n",
              "      <th>min</th>\n",
              "      <td>0.250000</td>\n",
              "      <td>0.000000</td>\n",
              "      <td>1.000000</td>\n",
              "      <td>1.000000</td>\n",
              "      <td>1.000000</td>\n",
              "      <td>1.000000</td>\n",
              "      <td>-18.728113</td>\n",
              "      <td>-19.024130</td>\n",
              "      <td>0.000000</td>\n",
              "    </tr>\n",
              "    <tr>\n",
              "      <th>25%</th>\n",
              "      <td>1.000000</td>\n",
              "      <td>0.000000</td>\n",
              "      <td>2.000000</td>\n",
              "      <td>2.000000</td>\n",
              "      <td>1.000000</td>\n",
              "      <td>1.000000</td>\n",
              "      <td>-7.115292</td>\n",
              "      <td>-6.810529</td>\n",
              "      <td>1.000000</td>\n",
              "    </tr>\n",
              "    <tr>\n",
              "      <th>50%</th>\n",
              "      <td>3.700000</td>\n",
              "      <td>0.000000</td>\n",
              "      <td>6.000000</td>\n",
              "      <td>5.000000</td>\n",
              "      <td>1.000000</td>\n",
              "      <td>1.000000</td>\n",
              "      <td>0.282119</td>\n",
              "      <td>0.270270</td>\n",
              "      <td>3.000000</td>\n",
              "    </tr>\n",
              "    <tr>\n",
              "      <th>75%</th>\n",
              "      <td>14.950000</td>\n",
              "      <td>28.000000</td>\n",
              "      <td>18.000000</td>\n",
              "      <td>16.000000</td>\n",
              "      <td>2.000000</td>\n",
              "      <td>1.000000</td>\n",
              "      <td>7.048177</td>\n",
              "      <td>6.266664</td>\n",
              "      <td>5.000000</td>\n",
              "    </tr>\n",
              "    <tr>\n",
              "      <th>max</th>\n",
              "      <td>20753.978000</td>\n",
              "      <td>2708.000000</td>\n",
              "      <td>41140.000000</td>\n",
              "      <td>29352.000000</td>\n",
              "      <td>671.000000</td>\n",
              "      <td>18.000000</td>\n",
              "      <td>20.685944</td>\n",
              "      <td>18.294134</td>\n",
              "      <td>7.000000</td>\n",
              "    </tr>\n",
              "  </tbody>\n",
              "</table>\n",
              "</div>"
            ],
            "text/plain": [
              "              score  readers_count  cited_by_posts_count  \\\n",
              "count  32539.000000   32539.000000          32539.000000   \n",
              "mean      52.947950      24.885461             70.553520   \n",
              "std      400.755279      69.129338            669.659965   \n",
              "min        0.250000       0.000000              1.000000   \n",
              "25%        1.000000       0.000000              2.000000   \n",
              "50%        3.700000       0.000000              6.000000   \n",
              "75%       14.950000      28.000000             18.000000   \n",
              "max    20753.978000    2708.000000          41140.000000   \n",
              "\n",
              "       cited_by_tweeters_count  cited_by_fbwalls_count  \\\n",
              "count             30615.000000             5836.000000   \n",
              "mean                 59.115270                2.419123   \n",
              "std                 535.398548               11.040603   \n",
              "min                   1.000000                1.000000   \n",
              "25%                   2.000000                1.000000   \n",
              "50%                   5.000000                1.000000   \n",
              "75%                  16.000000                2.000000   \n",
              "max               29352.000000              671.000000   \n",
              "\n",
              "       cited_by_wikipedia_count            x1            x2       cluster  \n",
              "count               1155.000000  52709.000000  52709.000000  52709.000000  \n",
              "mean                   1.406926     -0.008952     -0.051137      3.053748  \n",
              "std                    1.159224      8.998177      8.575326      2.180997  \n",
              "min                    1.000000    -18.728113    -19.024130      0.000000  \n",
              "25%                    1.000000     -7.115292     -6.810529      1.000000  \n",
              "50%                    1.000000      0.282119      0.270270      3.000000  \n",
              "75%                    1.000000      7.048177      6.266664      5.000000  \n",
              "max                   18.000000     20.685944     18.294134      7.000000  "
            ]
          },
          "metadata": {
            "tags": []
          },
          "execution_count": 32
        }
      ]
    },
    {
      "cell_type": "code",
      "metadata": {
        "id": "ScgcFJtUubgh",
        "colab_type": "code",
        "colab": {},
        "outputId": "8c96166f-6b66-4239-98bf-152bf16e50f6"
      },
      "source": [
        "metadata.info()"
      ],
      "execution_count": null,
      "outputs": [
        {
          "output_type": "stream",
          "text": [
            "<class 'pandas.core.frame.DataFrame'>\n",
            "RangeIndex: 52709 entries, 0 to 52708\n",
            "Data columns (total 24 columns):\n",
            " #   Column                    Non-Null Count  Dtype  \n",
            "---  ------                    --------------  -----  \n",
            " 0   paper_id                  52709 non-null  object \n",
            " 1   abstract                  36219 non-null  object \n",
            " 2   body_text                 52709 non-null  object \n",
            " 3   authors                   52072 non-null  object \n",
            " 4   title                     52709 non-null  object \n",
            " 5   journal                   47286 non-null  object \n",
            " 6   publish_time              52709 non-null  object \n",
            " 7   doi                       51071 non-null  object \n",
            " 8   source_x                  52709 non-null  object \n",
            " 9   url                       52709 non-null  object \n",
            " 10  is_covid                  52709 non-null  bool   \n",
            " 11  score                     32539 non-null  float64\n",
            " 12  readers_count             32539 non-null  float64\n",
            " 13  cited_by_posts_count      32539 non-null  float64\n",
            " 14  cited_by_tweeters_count   30615 non-null  float64\n",
            " 15  cited_by_fbwalls_count    5836 non-null   float64\n",
            " 16  cited_by_wikipedia_count  1155 non-null   float64\n",
            " 17  subjects                  6479 non-null   object \n",
            " 18  peer_reviewed             52709 non-null  bool   \n",
            " 19  excerpt                   52709 non-null  object \n",
            " 20  x1                        52709 non-null  float64\n",
            " 21  x2                        52709 non-null  float64\n",
            " 22  cluster                   52709 non-null  int64  \n",
            " 23  keywords                  52709 non-null  object \n",
            "dtypes: bool(2), float64(8), int64(1), object(13)\n",
            "memory usage: 8.9+ MB\n"
          ],
          "name": "stdout"
        }
      ]
    },
    {
      "cell_type": "code",
      "metadata": {
        "id": "QisbmDmmubgj",
        "colab_type": "code",
        "colab": {},
        "outputId": "53785340-d1c5-443d-e647-a874e4fbfe41"
      },
      "source": [
        "metadata.head()"
      ],
      "execution_count": null,
      "outputs": [
        {
          "output_type": "execute_result",
          "data": {
            "text/html": [
              "<div>\n",
              "<style scoped>\n",
              "    .dataframe tbody tr th:only-of-type {\n",
              "        vertical-align: middle;\n",
              "    }\n",
              "\n",
              "    .dataframe tbody tr th {\n",
              "        vertical-align: top;\n",
              "    }\n",
              "\n",
              "    .dataframe thead th {\n",
              "        text-align: right;\n",
              "    }\n",
              "</style>\n",
              "<table border=\"1\" class=\"dataframe\">\n",
              "  <thead>\n",
              "    <tr style=\"text-align: right;\">\n",
              "      <th></th>\n",
              "      <th>paper_id</th>\n",
              "      <th>abstract</th>\n",
              "      <th>body_text</th>\n",
              "      <th>authors</th>\n",
              "      <th>title</th>\n",
              "      <th>journal</th>\n",
              "      <th>publish_time</th>\n",
              "      <th>doi</th>\n",
              "      <th>source_x</th>\n",
              "      <th>url</th>\n",
              "      <th>...</th>\n",
              "      <th>cited_by_wikipedia_count</th>\n",
              "      <th>subjects</th>\n",
              "      <th>peer_reviewed</th>\n",
              "      <th>excerpt</th>\n",
              "      <th>x1</th>\n",
              "      <th>x2</th>\n",
              "      <th>cluster</th>\n",
              "      <th>keywords</th>\n",
              "      <th>h_index</th>\n",
              "      <th>cluster_name</th>\n",
              "    </tr>\n",
              "  </thead>\n",
              "  <tbody>\n",
              "    <tr>\n",
              "      <th>0</th>\n",
              "      <td>c9a627d5f63264b95acb95d2d3d9d46a52158b15</td>\n",
              "      <td>NaN</td>\n",
              "      <td>This editorial refers to 'Characteristics and ...</td>\n",
              "      <td>Pellicori, Pierpaolo</td>\n",
              "      <td>At the heart of COVID-19</td>\n",
              "      <td>Eur Heart J</td>\n",
              "      <td>2020-05-14</td>\n",
              "      <td>10.1093/eurheartj/ehaa415</td>\n",
              "      <td>Medline</td>\n",
              "      <td>https://www.ncbi.nlm.nih.gov/pubmed/32405639/;...</td>\n",
              "      <td>...</td>\n",
              "      <td>NaN</td>\n",
              "      <td>NaN</td>\n",
              "      <td>True</td>\n",
              "      <td>At the heart of COVID-19 . this editorial refe...</td>\n",
              "      <td>8.208132</td>\n",
              "      <td>0.855738</td>\n",
              "      <td>0</td>\n",
              "      <td>['cardiac', 'patient', 'heart', 'nt', 'healthc...</td>\n",
              "      <td>286</td>\n",
              "      <td>Drug testing</td>\n",
              "    </tr>\n",
              "    <tr>\n",
              "      <th>1</th>\n",
              "      <td>9044ecc75d28faa698b6405ad43874dbbf6b235d</td>\n",
              "      <td>NaN</td>\n",
              "      <td>Since 1996 a new Infectious Bronchitis virus (...</td>\n",
              "      <td>Franzo, Giovanni.  Listorti, Valeria.  Naylor,...</td>\n",
              "      <td>Molecular investigation of a full-length genom...</td>\n",
              "      <td>Virus Res</td>\n",
              "      <td>2015-12-02</td>\n",
              "      <td>10.1016/j.virusres.2015.07.008</td>\n",
              "      <td>Elsevier</td>\n",
              "      <td>https://doi.org/10.1016/j.virusres.2015.07.008...</td>\n",
              "      <td>...</td>\n",
              "      <td>NaN</td>\n",
              "      <td>NaN</td>\n",
              "      <td>True</td>\n",
              "      <td>Molecular investigation of a full-length genom...</td>\n",
              "      <td>-4.005015</td>\n",
              "      <td>16.336422</td>\n",
              "      <td>6</td>\n",
              "      <td>['sequence', 'italy', 'recombination', 'strain...</td>\n",
              "      <td>114</td>\n",
              "      <td>Crisis management</td>\n",
              "    </tr>\n",
              "    <tr>\n",
              "      <th>2</th>\n",
              "      <td>18e5ca6859a1131329eb3b2c61b66955d97aed20</td>\n",
              "      <td>NaN</td>\n",
              "      <td>In serving its primary function in gas exchang...</td>\n",
              "      <td>Xu, Fengying.  Wen, Zongmei.  Shi, Xueying.  F...</td>\n",
              "      <td>Inflammasome in the Pathogenesis of Pulmonary ...</td>\n",
              "      <td>Inflammasomes: Clinical and Therapeutic Implic...</td>\n",
              "      <td>2018-09-05</td>\n",
              "      <td>10.1007/978-3-319-89390-7_6</td>\n",
              "      <td>PMC</td>\n",
              "      <td>https://www.ncbi.nlm.nih.gov/pmc/articles/PMC7...</td>\n",
              "      <td>...</td>\n",
              "      <td>NaN</td>\n",
              "      <td>NaN</td>\n",
              "      <td>True</td>\n",
              "      <td>Inflammasome in the Pathogenesis of Pulmonary ...</td>\n",
              "      <td>-3.043246</td>\n",
              "      <td>-1.944087</td>\n",
              "      <td>0</td>\n",
              "      <td>['beta', 'mouse', 'activation', 'lung', 'macro...</td>\n",
              "      <td>None</td>\n",
              "      <td>Drug testing</td>\n",
              "    </tr>\n",
              "    <tr>\n",
              "      <th>3</th>\n",
              "      <td>bed493869199469ee87e5f50d139fef45f3fcf73</td>\n",
              "      <td>Chemokines are an extensive family of small pr...</td>\n",
              "      <td>Chemokines are a family of chemoattractant cyt...</td>\n",
              "      <td>Mohan, Teena.  Deng, Lei.  Wang, Bao-Zhong</td>\n",
              "      <td>CCL28 chemokine: An anchoring point bridging i...</td>\n",
              "      <td>International Immunopharmacology</td>\n",
              "      <td>2017-10-31</td>\n",
              "      <td>10.1016/j.intimp.2017.08.012</td>\n",
              "      <td>Elsevier</td>\n",
              "      <td>https://www.sciencedirect.com/science/article/...</td>\n",
              "      <td>...</td>\n",
              "      <td>NaN</td>\n",
              "      <td>['pharmacology', 'allergyandimmunology']</td>\n",
              "      <td>True</td>\n",
              "      <td>CCL28 chemokine: An anchoring point bridging i...</td>\n",
              "      <td>-12.808779</td>\n",
              "      <td>2.548342</td>\n",
              "      <td>1</td>\n",
              "      <td>['antimicrobial', 'mucosal', 'cell', 'immune',...</td>\n",
              "      <td>106</td>\n",
              "      <td>Covid outbreak</td>\n",
              "    </tr>\n",
              "    <tr>\n",
              "      <th>4</th>\n",
              "      <td>ba7d692c043b8a27633ad72046de6045cc36e536</td>\n",
              "      <td>We present a novel bioaerosol sampling system ...</td>\n",
              "      <td>Concerns over airborne microorganisms, called ...</td>\n",
              "      <td>Cho, Yu Sung.  Hong, Seung Chan.  Choi, Jeonga...</td>\n",
              "      <td>Development of an automated wet-cyclone system...</td>\n",
              "      <td>Sensors and Actuators B: Chemical</td>\n",
              "      <td>2019-04-01</td>\n",
              "      <td>10.1016/j.snb.2018.12.155</td>\n",
              "      <td>Elsevier</td>\n",
              "      <td>https://api.elsevier.com/content/article/pii/S...</td>\n",
              "      <td>...</td>\n",
              "      <td>NaN</td>\n",
              "      <td>NaN</td>\n",
              "      <td>True</td>\n",
              "      <td>Development of an automated wet-cyclone system...</td>\n",
              "      <td>-9.338528</td>\n",
              "      <td>-10.589062</td>\n",
              "      <td>5</td>\n",
              "      <td>['liquid', 'particle', 'air', 'flow', 'aerosol...</td>\n",
              "      <td>184</td>\n",
              "      <td>Transmission</td>\n",
              "    </tr>\n",
              "  </tbody>\n",
              "</table>\n",
              "<p>5 rows × 26 columns</p>\n",
              "</div>"
            ],
            "text/plain": [
              "                                   paper_id  \\\n",
              "0  c9a627d5f63264b95acb95d2d3d9d46a52158b15   \n",
              "1  9044ecc75d28faa698b6405ad43874dbbf6b235d   \n",
              "2  18e5ca6859a1131329eb3b2c61b66955d97aed20   \n",
              "3  bed493869199469ee87e5f50d139fef45f3fcf73   \n",
              "4  ba7d692c043b8a27633ad72046de6045cc36e536   \n",
              "\n",
              "                                            abstract  \\\n",
              "0                                                NaN   \n",
              "1                                                NaN   \n",
              "2                                                NaN   \n",
              "3  Chemokines are an extensive family of small pr...   \n",
              "4  We present a novel bioaerosol sampling system ...   \n",
              "\n",
              "                                           body_text  \\\n",
              "0  This editorial refers to 'Characteristics and ...   \n",
              "1  Since 1996 a new Infectious Bronchitis virus (...   \n",
              "2  In serving its primary function in gas exchang...   \n",
              "3  Chemokines are a family of chemoattractant cyt...   \n",
              "4  Concerns over airborne microorganisms, called ...   \n",
              "\n",
              "                                             authors  \\\n",
              "0                               Pellicori, Pierpaolo   \n",
              "1  Franzo, Giovanni.  Listorti, Valeria.  Naylor,...   \n",
              "2  Xu, Fengying.  Wen, Zongmei.  Shi, Xueying.  F...   \n",
              "3         Mohan, Teena.  Deng, Lei.  Wang, Bao-Zhong   \n",
              "4  Cho, Yu Sung.  Hong, Seung Chan.  Choi, Jeonga...   \n",
              "\n",
              "                                               title  \\\n",
              "0                           At the heart of COVID-19   \n",
              "1  Molecular investigation of a full-length genom...   \n",
              "2  Inflammasome in the Pathogenesis of Pulmonary ...   \n",
              "3  CCL28 chemokine: An anchoring point bridging i...   \n",
              "4  Development of an automated wet-cyclone system...   \n",
              "\n",
              "                                             journal publish_time  \\\n",
              "0                                        Eur Heart J   2020-05-14   \n",
              "1                                          Virus Res   2015-12-02   \n",
              "2  Inflammasomes: Clinical and Therapeutic Implic...   2018-09-05   \n",
              "3                   International Immunopharmacology   2017-10-31   \n",
              "4                  Sensors and Actuators B: Chemical   2019-04-01   \n",
              "\n",
              "                              doi  source_x  \\\n",
              "0       10.1093/eurheartj/ehaa415   Medline   \n",
              "1  10.1016/j.virusres.2015.07.008  Elsevier   \n",
              "2     10.1007/978-3-319-89390-7_6       PMC   \n",
              "3    10.1016/j.intimp.2017.08.012  Elsevier   \n",
              "4       10.1016/j.snb.2018.12.155  Elsevier   \n",
              "\n",
              "                                                 url  ...  \\\n",
              "0  https://www.ncbi.nlm.nih.gov/pubmed/32405639/;...  ...   \n",
              "1  https://doi.org/10.1016/j.virusres.2015.07.008...  ...   \n",
              "2  https://www.ncbi.nlm.nih.gov/pmc/articles/PMC7...  ...   \n",
              "3  https://www.sciencedirect.com/science/article/...  ...   \n",
              "4  https://api.elsevier.com/content/article/pii/S...  ...   \n",
              "\n",
              "   cited_by_wikipedia_count                                  subjects  \\\n",
              "0                       NaN                                       NaN   \n",
              "1                       NaN                                       NaN   \n",
              "2                       NaN                                       NaN   \n",
              "3                       NaN  ['pharmacology', 'allergyandimmunology']   \n",
              "4                       NaN                                       NaN   \n",
              "\n",
              "   peer_reviewed                                            excerpt  \\\n",
              "0           True  At the heart of COVID-19 . this editorial refe...   \n",
              "1           True  Molecular investigation of a full-length genom...   \n",
              "2           True  Inflammasome in the Pathogenesis of Pulmonary ...   \n",
              "3           True  CCL28 chemokine: An anchoring point bridging i...   \n",
              "4           True  Development of an automated wet-cyclone system...   \n",
              "\n",
              "          x1         x2  cluster  \\\n",
              "0   8.208132   0.855738        0   \n",
              "1  -4.005015  16.336422        6   \n",
              "2  -3.043246  -1.944087        0   \n",
              "3 -12.808779   2.548342        1   \n",
              "4  -9.338528 -10.589062        5   \n",
              "\n",
              "                                            keywords  h_index  \\\n",
              "0  ['cardiac', 'patient', 'heart', 'nt', 'healthc...      286   \n",
              "1  ['sequence', 'italy', 'recombination', 'strain...      114   \n",
              "2  ['beta', 'mouse', 'activation', 'lung', 'macro...     None   \n",
              "3  ['antimicrobial', 'mucosal', 'cell', 'immune',...      106   \n",
              "4  ['liquid', 'particle', 'air', 'flow', 'aerosol...      184   \n",
              "\n",
              "        cluster_name  \n",
              "0       Drug testing  \n",
              "1  Crisis management  \n",
              "2       Drug testing  \n",
              "3     Covid outbreak  \n",
              "4       Transmission  \n",
              "\n",
              "[5 rows x 26 columns]"
            ]
          },
          "metadata": {
            "tags": []
          },
          "execution_count": 89
        }
      ]
    }
  ]
}